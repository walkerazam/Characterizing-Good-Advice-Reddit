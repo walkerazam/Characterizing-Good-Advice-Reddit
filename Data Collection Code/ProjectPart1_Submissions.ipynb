{
 "cells": [
  {
   "cell_type": "markdown",
   "metadata": {},
   "source": [
    "# Characterizing the Nature of Online Career Advice Communities\n",
    "\n",
    "### Team Name: Team 3\n",
    "### Team Members: Wen Yi Aw, Walker Azam, Ken Masumoto\n",
    "\n",
    "\n",
    "## Project Goal\n",
    "The goal of our project is to better understand how online career advice communities on Reddit operate. These communities are popular places to seek advice, especially considering that these questions are often high stakes and personal. By researching these communities, we will be able to learn about advice seeking/giving on the internet as a whole, as well as better understand the problems that the modern-day employee faces.\n",
    "\n",
    "## Research Questions\n",
    "Our research questions are as follows:\n",
    "- What type of career-related questions are most being asked and discussed?\n",
    "- Who is asking these questions? What role does Age, Gender, and Anonymity play in these communities?\n",
    "- What are the qualities of what is considered ‘good’ advice on these subreddits?\n",
    "\n",
    "We feel that these research questions cover the most important factors surrounding our topic, and will give us information that will lead us to make actionable recommendations. \n",
    "\n",
    "\n",
    "## Motivation\n",
    "If we are successful, there are several stakeholders who stand to gain from our research. Companies will have a better understanding of where information gaps exist for their employees and be able to find ways to fill those information gaps. As a result, employees will have their needs better addressed by the companies they work for. And finally, Reddit users who frequent advice-giving communities will be able to better identify “good” advice. \n",
    "\n",
    "## Data Description\n",
    "We decided to collect the submission information from the top 250 posts from r/askHR and r/careerguidance to help us answer the first two research questions. Then we collected the comments from each of these submissions to help us answer the third research question. The code we used to collect the post data is outlined in the rest of this notebook. The code we used to collect the comment data from these posts is in the notebook titled 'CollectRedditComments.ipynb.' \n",
    "\n",
    "Our Deliverables\n",
    "- **Collect_Reddit_Submissions.ipynb** (This notebook): Project outline and submission collection\n",
    "- **CollectRedditComments.ipynb**: Comment collection\n",
    "- **postdata.csv**: CSV file of our submission data (250 submissions from r/askHR and 250 submissions from r/careeradvice)\n",
    "- **askHR_comments.csv** and **careeradvice_comments.csv**: CSV files of our comment data\n",
    "\n",
    "## Contributions\n",
    "\n",
    "Wen Yi Aw: Code used to gather submission post data\n",
    "Walker Azam: Code used to gather comment data\n",
    "Ken Masumoto: Problem statement and motivation writeup\n",
    "\n"
   ]
  },
  {
   "cell_type": "markdown",
   "metadata": {},
   "source": [
    "## Reddit Post Collection\n",
    "\n",
    "This notebook contains processes to retrieve Reddit submissions from work advice communities. This will be used to generate a csv file containing submission data.\n",
    "\n",
    "Our two subreddits of interest are r/careerguidance and r/askHR. Although we had previously planned to examine more subreddits, we found that collecting the comments of even a small subset of posts would still lead to a large dataset. We collected data on 250 posts from each of these subreddits, as well as the comments associated with each post.\n",
    "\n",
    "Because a key part of our analysis will involve comments (determining good advice versus bad advice), we selected posts sorted by \"top\" as these posts have a high amount of interactions and comments. These posts were taken from the time period over the last year, so that our analysis can address current concerns of people seeking career advice."
   ]
  },
  {
   "cell_type": "code",
   "execution_count": 36,
   "metadata": {},
   "outputs": [
    {
     "name": "stdout",
     "output_type": "stream",
     "text": [
      "        subreddit                                                                                                                                         title      id                author  \\\n",
      "0  careerguidance  Can we all agree to normalize gaps on resumes?                                                                                                nd3r9i  minirumbaba            \n",
      "1  careerguidance  Anyone else’s coworkers suddenly quitting with no job lined up?                                                                               qv8jc4  Pugnastyornah          \n",
      "2  careerguidance  I have only been working Full-Time for 5 years. But I am already exhausted and don't want to work anymore. Does anybody else feel like this?  ojgq1c  Archprimus_            \n",
      "3  careerguidance  Lied about getting another offer, hr wants to see my offer letter. What should I do?                                                          sdnh5m  ten_choe               \n",
      "4  careerguidance  Anyone else have the feeling their job is bullshit?                                                                                           o1xcex  Suitable-Excitement3   \n",
      "\n",
      "                                                                                                                                                                                                                                                                                                                                                                                                                                                                                                                                                                                                                                                                                                                                                                                                                                                                                                                                                                                                                                                                                                                                                                                                                                                                                                                                                       text  \\\n",
      "0  There is nothing wrong with not working for 3 months. Stop pressuring people to divulge irrelevant personal information or craft a palatable excuse for existing outside of a corporate environment for a few months.\\n\\nIn the grand scheme of things, a few months or even a year is an incredibly short amount of time when compared to the average 40 year life-span of a career.\\n\\nWhat’s everyone’s thoughts on resume gaps? Stay at home parents, how do you address the gap on your resume?\\n\\n—\\n\\nUpdate: Thank you all for contributing your perspectives. I’m relieved to see that the majority of you agree with the sentiment of this post. Your comments make me hopeful for a more empathetic and balanced workplace in the future. Big thank you to whoever gave me the awards!                                                                                                                                                                                                                                                                                                                                                                                                                                                                                                                                                          \n",
      "1  Our 3rd coworker in less than 2 months quit Friday. I asked him what’s next and he said “the sun and the sky”. The other coworkers also didn’t have a job lined up yet. \\n\\nIt’s interesting because my boss just a couple months ago was threatening to fire me, partially citing that we were fully staffed, and now we’re short staffed and she’s changed her tune with me. I’m also a full time graduate student so if I quit, I’d be just fine between student loans and landing an assistantship/ part time gig. \\n\\nThis great resignation movement seems to be the real deal. Unemployment data is being released on Friday and I’m very curious of the results.\\n\\nThere needs to be a “Great Resignation” flair on this sub lol\\n\\nEdit: since I’ve posted this, another coworker quit… 4 coworkers in just at 3 months now. Small office. This particular coworker started less than 2 months ago.                                                                                                                                                                                                                                                                                                                                                                                                                                              \n",
      "2  I don't understand what is wrong with me. When I look at my parents, they have been working for decades, of course if they had a choice they wouldn't work, but it's like they just shrug it off and just do what they have to do. Me on the other hand, I am exhausted and don't want to work anymore.\\n\\nBut my problem is that I simply do not understand why I am feeling like this. What's most confusing is that my work situation is something that some people wish they had. I work from home. I don't make a lot of money but enough to pay the bills and have some money left for buying small wants. I just came back from an international 2 week vacation. But yet I spent my entire days daydreaming about having passive income so that I can retire and spend my days doing the things I like. I don't like my job. But I'm already thousands in student loan debt for a masters degree in the same career field that I am working right now. I don't even have the energy or desire to up my salary with a different job following my degree. I just do not feel like working.\\n\\nIs there anybody else who has a \"good\" situation going on and still hate working?                                                                                                                                                                      \n",
      "3  So for the last three months, I took over my boss’s role since he took a 4 month leave. I have been managing everything and 2 days ago, I talked to my boss about getting a raise and promotion. He tried giving me the run around and said he could try for approval in march. I then lied and said I need to know asap if a promotion and raise was possible because if not, I am going to another company that was gonna pay me x amount. He called me today and said hr wants to see the offer letter from the other company before they give me the raise. Can they do that? Should I make a fake document? I am thinking about just leaving now because it seems like they can afford to pay me and promote me, but they just don’t want to do it. I’d be grateful for any advice. Thank you. \\n\\nEdit: Just wanted to update y’all on my situation. I took your advice and told my company that I didn’t feel comfortable sharing that information with them and that it was a verbal agreement. They understood and gave me my raise! To the people lecturing me about lying, I value myself over the company. I wanted/deserved  a raise because not only was I fulfilling my responsibilities but also my boss since he’s been out for several months. But I sincerely appreciate all of our advice and thoughts on this. Thank you so much!!!   \n",
      "4  Just looking to vent incase anyone else here has some thoughts on...bullshit jobs!!\\n\\nI graduated 3 years ago and took the first job offer from the federal government I received (Canada), I’ve moved around a bit with my pay fluctuating around the 65-70k mark and quite honestly I’ve done NOTHING.\\n\\nMy days have been spent forwarding emails, copy pasting info from spreadsheet to spreadsheet, attending pointless meetings, and other activities that barely require the use of a brain.... I genuinely feel like I’ve become more stupid since working here...\\n\\nA friend of mine sent me graeber’s whole bullshit jobs theory and I can’t unread it... this isn’t something they prepare you for in school growing up.\\n\\nI dunno what my passion is, or where my careers headed but this ain’t it.\\n\\nI nearly burst into tears with my last assignment (copy paste these 1000 ish rows of data into this other spreadsheet) I feel like shit thinking this way...there’s literally millions of ppl who would KILL to have my position and benefits....\\n\\nBut the thought of wasting away here doing work I know is absolute BS, and contributing nothing to society...retiring at 65 and looking back...fuck this scares me,\\n\\nAnyone else have thoughts on bs jobs?                                                                   \n",
      "\n",
      "   num_comments  score  upvote_ratio      flair distinguished  \n",
      "0  178           1423   0.98          None       None          \n",
      "1  357           1315   0.99          Coworkers  None          \n",
      "2  231           1011   0.98          None       None          \n",
      "3  346           944    0.97          Advice     None          \n",
      "4  279           919    0.99          Advice     None          \n"
     ]
    }
   ],
   "source": [
    "import praw\n",
    "import pandas as pd\n",
    "from collections import defaultdict\n",
    "\n",
    "# Get credentials from DEFAULT instance in praw.ini\n",
    "reddit = praw.Reddit('DEFAULT')\n",
    "\n",
    "# Establish dictionary for storing post data\n",
    "posts_dict = defaultdict(list)\n",
    "\n",
    "# List of subreddits to examine\n",
    "subs = ['careerguidance', 'askHR']\n",
    "\n",
    "for sub in subs:\n",
    "    # Create subreddit variable\n",
    "    subreddit = reddit.subreddit(sub)\n",
    "\n",
    "    # Iterator item to parse the top 250 posts in the last year\n",
    "    top_subreddit = subreddit.top(limit=250, time_filter='year')\n",
    "\n",
    "    # Iterate over the top_subreddit object and store fields for each post in the dictionary\n",
    "    for submission in top_subreddit:\n",
    "        posts_dict[\"subreddit\"].append(submission.subreddit)\n",
    "        posts_dict[\"title\"].append(submission.title)\n",
    "        posts_dict[\"id\"].append(submission.id) # ID of the submission.\n",
    "        posts_dict[\"author\"].append(submission.author)\n",
    "        posts_dict[\"text\"].append(submission.selftext) \n",
    "        posts_dict[\"num_comments\"].append(submission.num_comments) # The number of comments on the submission.\n",
    "        posts_dict[\"score\"].append(submission.score) # number of upvotes for the submission.\n",
    "        posts_dict[\"upvote_ratio\"].append(submission.upvote_ratio) # percentage of upvotes from all votes on the submission.\n",
    "        posts_dict[\"flair\"].append(submission.link_flair_text) # The link flair’s text content, or None if not flaired.\n",
    "        posts_dict[\"distinguished\"].append(submission.distinguished) # Whether or not the submission is distinguished.\n",
    "    \n",
    "# Create a dataframe from the post dictionary\n",
    "post_data = pd.DataFrame(posts_dict)\n",
    "\n",
    "# Print head of dataframe to examine results\n",
    "print(post_data.head())"
   ]
  },
  {
   "cell_type": "markdown",
   "metadata": {},
   "source": [
    "The fields we collected from each post were:\n",
    "- subreddit: to differentiate between communities (r/careerguidance or r/askHR)\n",
    "- title: could be helpful to identify the topic of the post (ex. promotions, interviews, coworkers, etc.)\n",
    "- post ID: for later collection of comments\n",
    "- author: make sure authors are counted as unique in potential demographic measurements \n",
    "- text of the post: who is asking for advice and what subjects they want advice on\n",
    "- number of comments: could be helpful for verifying that all comments of each post are collected\n",
    "- number of upvotes: potentially score what the community considers a \"good\" advice request\n",
    "- percentage of votes which are upvotes: same as number of upvotes\n",
    "- the post flair: could be helpful to identify the topic of the post\n",
    "- whether the post is distinguished: marks as a post from a moderator (may consider removing moderator posts in the future, if they are not advice)\n"
   ]
  },
  {
   "cell_type": "code",
   "execution_count": 38,
   "metadata": {},
   "outputs": [],
   "source": [
    "# Save dataframe to new CSV file with UTF-8 encoding\n",
    "post_data.to_csv('./postdata.csv', encoding='utf-8')"
   ]
  },
  {
   "cell_type": "markdown",
   "metadata": {},
   "source": [
    "Once saved, this CSV will be used for collecting comments of each submission (based on submission ID)."
   ]
  }
 ],
 "metadata": {
  "kernelspec": {
   "display_name": "Python 3",
   "language": "python",
   "name": "python3"
  },
  "language_info": {
   "codemirror_mode": {
    "name": "ipython",
    "version": 3
   },
   "file_extension": ".py",
   "mimetype": "text/x-python",
   "name": "python",
   "nbconvert_exporter": "python",
   "pygments_lexer": "ipython3",
   "version": "3.7.4"
  }
 },
 "nbformat": 4,
 "nbformat_minor": 4
}
