{
 "cells": [
  {
   "cell_type": "markdown",
   "metadata": {},
   "source": [
    "# Characterizing Good Advice - Phase 3\n",
    "\n",
    "### Team Name: Team 3\n",
    "### Team Members: Wen Yi Aw, Walker Azam, Ken Masumoto\n",
    "\n",
    "One of our research questions for this project is \"What are the qualitites of 'good' advice on career advice subreddits?\" To answer this question, we need to analyze the comments on the submissions from our chosen subreddits. We start by importing the necessary libraries and reading in the comment data CSVs from Phase 1.\n",
    "\n",
    "### Contributions\n",
    "\n",
    "- Walker\n",
    "    - Comment data collection\n",
    "    - Topic Modeling\n",
    "    - Good Advice characterization data prep\n",
    "    - Good Advice Naive Bayes Model\n",
    "- Wen Yi \n",
    "    - Submission data collection\n",
    "    - Good Advice characterization data prep\n",
    "    - Logistic Regression Model\n",
    "- Ken \n",
    "    - Comment data cleaning\n",
    "    - Comment data initial analysis\n",
    "    - Visualizing good advice vs. bad advice\n",
    "    - Limitations, Ethical Considerations, Future Work, and Takeaways\n",
    "    \n",
    "    \n",
    "### Progress Since Phase 2\n",
    "\n",
    "Since phase 2, we decided on a measure to characterize \"good\" advice (75th percentile comment upvote score of each submissions). We used this to create our predictive models for good advice. We created a model using Naive Bayes and a model using Logistic Regression. We also visualized the data and included our final takeaways and lessons. Finally we used hypothesis testing to verify our metric's significances."
   ]
  },
  {
   "cell_type": "markdown",
   "metadata": {},
   "source": [
    "## Part 1: Cleaning"
   ]
  },
  {
   "cell_type": "markdown",
   "metadata": {},
   "source": [
    "We start the cleaning process by importing the necessary libraries and reading in our csv file containing our comment data."
   ]
  },
  {
   "cell_type": "code",
   "execution_count": 1,
   "metadata": {},
   "outputs": [],
   "source": [
    "# import necessary packages\n",
    "import pandas as pd\n",
    "import re, string"
   ]
  },
  {
   "cell_type": "code",
   "execution_count": 2,
   "metadata": {},
   "outputs": [],
   "source": [
    "# load data\n",
    "ask_HR_comments = pd.read_csv(\"askHR_comments.csv\", lineterminator='\\n')\n",
    "career_guidance_comments = pd.read_csv(\"careerguidance_comments.csv\", lineterminator='\\n')\n",
    "\n",
    "# join data files\n",
    "comments = pd.concat([ask_HR_comments, career_guidance_comments], ignore_index=True)"
   ]
  },
  {
   "cell_type": "code",
   "execution_count": 3,
   "metadata": {},
   "outputs": [
    {
     "data": {
      "text/html": [
       "<div>\n",
       "<style scoped>\n",
       "    .dataframe tbody tr th:only-of-type {\n",
       "        vertical-align: middle;\n",
       "    }\n",
       "\n",
       "    .dataframe tbody tr th {\n",
       "        vertical-align: top;\n",
       "    }\n",
       "\n",
       "    .dataframe thead th {\n",
       "        text-align: right;\n",
       "    }\n",
       "</style>\n",
       "<table border=\"1\" class=\"dataframe\">\n",
       "  <thead>\n",
       "    <tr style=\"text-align: right;\">\n",
       "      <th></th>\n",
       "      <th>Unnamed: 0</th>\n",
       "      <th>submission id</th>\n",
       "      <th>comment id</th>\n",
       "      <th>body</th>\n",
       "      <th>score</th>\n",
       "      <th>is_submitter</th>\n",
       "      <th>distinguished</th>\n",
       "    </tr>\n",
       "  </thead>\n",
       "  <tbody>\n",
       "    <tr>\n",
       "      <th>0</th>\n",
       "      <td>0</td>\n",
       "      <td>r0mlaq</td>\n",
       "      <td>hltcpsw</td>\n",
       "      <td>Happy for you.  Side note but damn, they didn'...</td>\n",
       "      <td>243</td>\n",
       "      <td>False</td>\n",
       "      <td>NaN</td>\n",
       "    </tr>\n",
       "    <tr>\n",
       "      <th>1</th>\n",
       "      <td>1</td>\n",
       "      <td>r0mlaq</td>\n",
       "      <td>hltku5i</td>\n",
       "      <td>My boss came in a few weeks ago bitching about...</td>\n",
       "      <td>190</td>\n",
       "      <td>False</td>\n",
       "      <td>NaN</td>\n",
       "    </tr>\n",
       "    <tr>\n",
       "      <th>2</th>\n",
       "      <td>2</td>\n",
       "      <td>r0mlaq</td>\n",
       "      <td>hlti2pf</td>\n",
       "      <td>Let us know how they respond when you give not...</td>\n",
       "      <td>53</td>\n",
       "      <td>False</td>\n",
       "      <td>NaN</td>\n",
       "    </tr>\n",
       "    <tr>\n",
       "      <th>3</th>\n",
       "      <td>3</td>\n",
       "      <td>r0mlaq</td>\n",
       "      <td>hltdpvt</td>\n",
       "      <td>Did they let you go? Either way, these people ...</td>\n",
       "      <td>32</td>\n",
       "      <td>False</td>\n",
       "      <td>NaN</td>\n",
       "    </tr>\n",
       "    <tr>\n",
       "      <th>4</th>\n",
       "      <td>4</td>\n",
       "      <td>r0mlaq</td>\n",
       "      <td>hlu2q2d</td>\n",
       "      <td>Congratulations!!   After you have spent a few...</td>\n",
       "      <td>15</td>\n",
       "      <td>False</td>\n",
       "      <td>NaN</td>\n",
       "    </tr>\n",
       "  </tbody>\n",
       "</table>\n",
       "</div>"
      ],
      "text/plain": [
       "   Unnamed: 0 submission id comment id  \\\n",
       "0           0        r0mlaq    hltcpsw   \n",
       "1           1        r0mlaq    hltku5i   \n",
       "2           2        r0mlaq    hlti2pf   \n",
       "3           3        r0mlaq    hltdpvt   \n",
       "4           4        r0mlaq    hlu2q2d   \n",
       "\n",
       "                                                body  score  is_submitter  \\\n",
       "0  Happy for you.  Side note but damn, they didn'...    243         False   \n",
       "1  My boss came in a few weeks ago bitching about...    190         False   \n",
       "2  Let us know how they respond when you give not...     53         False   \n",
       "3  Did they let you go? Either way, these people ...     32         False   \n",
       "4  Congratulations!!   After you have spent a few...     15         False   \n",
       "\n",
       "  distinguished  \n",
       "0           NaN  \n",
       "1           NaN  \n",
       "2           NaN  \n",
       "3           NaN  \n",
       "4           NaN  "
      ]
     },
     "execution_count": 3,
     "metadata": {},
     "output_type": "execute_result"
    }
   ],
   "source": [
    "# data preview\n",
    "comments.head()"
   ]
  },
  {
   "cell_type": "markdown",
   "metadata": {},
   "source": [
    "Next, we can run the comment bodies through a preliminary cleaning process, removing links, digits, and punctuation."
   ]
  },
  {
   "cell_type": "code",
   "execution_count": 4,
   "metadata": {},
   "outputs": [],
   "source": [
    "def clean1(text):\n",
    "    \"\"\"\n",
    "    Given a text string, removes capitalization, links, numbers, and punctuation. Returns cleaned text string.\n",
    "    \"\"\"\n",
    "    text = text.lower() # make all text to lowercase\n",
    "    text = re.sub('(https?:\\/\\/)?([\\da-z\\.-]+)\\.([a-z\\.]{2,6})([\\/\\w \\.-]*)', '', text) # remove all links\n",
    "    text = re.sub('\\w*\\d\\w*', '', text) # remove all digits and words containing numbers\n",
    "    text = re.sub('[%s]' % re.escape(string.punctuation), '', text) # remove punctuation marks\n",
    "    text = re.sub('[^A-Za-z ]+', '', text) #remove non-alphabetic characters\n",
    "    return text\n",
    "\n",
    "# function to apply clean1 to all entries\n",
    "cleaner1 = lambda x: clean1(x)"
   ]
  },
  {
   "cell_type": "code",
   "execution_count": 5,
   "metadata": {},
   "outputs": [],
   "source": [
    "# clean comment body text\n",
    "comments['cleaned_body'] = pd.DataFrame(comments['body'].apply(cleaner1))"
   ]
  },
  {
   "cell_type": "code",
   "execution_count": 6,
   "metadata": {},
   "outputs": [
    {
     "data": {
      "text/html": [
       "<div>\n",
       "<style scoped>\n",
       "    .dataframe tbody tr th:only-of-type {\n",
       "        vertical-align: middle;\n",
       "    }\n",
       "\n",
       "    .dataframe tbody tr th {\n",
       "        vertical-align: top;\n",
       "    }\n",
       "\n",
       "    .dataframe thead th {\n",
       "        text-align: right;\n",
       "    }\n",
       "</style>\n",
       "<table border=\"1\" class=\"dataframe\">\n",
       "  <thead>\n",
       "    <tr style=\"text-align: right;\">\n",
       "      <th></th>\n",
       "      <th>Unnamed: 0</th>\n",
       "      <th>submission id</th>\n",
       "      <th>comment id</th>\n",
       "      <th>body</th>\n",
       "      <th>score</th>\n",
       "      <th>is_submitter</th>\n",
       "      <th>distinguished</th>\n",
       "      <th>cleaned_body</th>\n",
       "    </tr>\n",
       "  </thead>\n",
       "  <tbody>\n",
       "    <tr>\n",
       "      <th>0</th>\n",
       "      <td>0</td>\n",
       "      <td>r0mlaq</td>\n",
       "      <td>hltcpsw</td>\n",
       "      <td>Happy for you.  Side note but damn, they didn'...</td>\n",
       "      <td>243</td>\n",
       "      <td>False</td>\n",
       "      <td>NaN</td>\n",
       "      <td>happy for you  side note but damn they didnt e...</td>\n",
       "    </tr>\n",
       "    <tr>\n",
       "      <th>1</th>\n",
       "      <td>1</td>\n",
       "      <td>r0mlaq</td>\n",
       "      <td>hltku5i</td>\n",
       "      <td>My boss came in a few weeks ago bitching about...</td>\n",
       "      <td>190</td>\n",
       "      <td>False</td>\n",
       "      <td>NaN</td>\n",
       "      <td>my boss came in a few weeks ago bitching about...</td>\n",
       "    </tr>\n",
       "    <tr>\n",
       "      <th>2</th>\n",
       "      <td>2</td>\n",
       "      <td>r0mlaq</td>\n",
       "      <td>hlti2pf</td>\n",
       "      <td>Let us know how they respond when you give not...</td>\n",
       "      <td>53</td>\n",
       "      <td>False</td>\n",
       "      <td>NaN</td>\n",
       "      <td>let us know how they respond when you give not...</td>\n",
       "    </tr>\n",
       "    <tr>\n",
       "      <th>3</th>\n",
       "      <td>3</td>\n",
       "      <td>r0mlaq</td>\n",
       "      <td>hltdpvt</td>\n",
       "      <td>Did they let you go? Either way, these people ...</td>\n",
       "      <td>32</td>\n",
       "      <td>False</td>\n",
       "      <td>NaN</td>\n",
       "      <td>did they let you go either way these people ar...</td>\n",
       "    </tr>\n",
       "    <tr>\n",
       "      <th>4</th>\n",
       "      <td>4</td>\n",
       "      <td>r0mlaq</td>\n",
       "      <td>hlu2q2d</td>\n",
       "      <td>Congratulations!!   After you have spent a few...</td>\n",
       "      <td>15</td>\n",
       "      <td>False</td>\n",
       "      <td>NaN</td>\n",
       "      <td>congratulations   after you have spent a few m...</td>\n",
       "    </tr>\n",
       "  </tbody>\n",
       "</table>\n",
       "</div>"
      ],
      "text/plain": [
       "   Unnamed: 0 submission id comment id  \\\n",
       "0           0        r0mlaq    hltcpsw   \n",
       "1           1        r0mlaq    hltku5i   \n",
       "2           2        r0mlaq    hlti2pf   \n",
       "3           3        r0mlaq    hltdpvt   \n",
       "4           4        r0mlaq    hlu2q2d   \n",
       "\n",
       "                                                body  score  is_submitter  \\\n",
       "0  Happy for you.  Side note but damn, they didn'...    243         False   \n",
       "1  My boss came in a few weeks ago bitching about...    190         False   \n",
       "2  Let us know how they respond when you give not...     53         False   \n",
       "3  Did they let you go? Either way, these people ...     32         False   \n",
       "4  Congratulations!!   After you have spent a few...     15         False   \n",
       "\n",
       "  distinguished                                       cleaned_body  \n",
       "0           NaN  happy for you  side note but damn they didnt e...  \n",
       "1           NaN  my boss came in a few weeks ago bitching about...  \n",
       "2           NaN  let us know how they respond when you give not...  \n",
       "3           NaN  did they let you go either way these people ar...  \n",
       "4           NaN  congratulations   after you have spent a few m...  "
      ]
     },
     "execution_count": 6,
     "metadata": {},
     "output_type": "execute_result"
    }
   ],
   "source": [
    "# show cleaned text\n",
    "comments.head()"
   ]
  },
  {
   "cell_type": "markdown",
   "metadata": {},
   "source": [
    "Next, we can run the comments' text bodies through an additional round of cleaning by removing the stopwords and stemming each word."
   ]
  },
  {
   "cell_type": "code",
   "execution_count": 7,
   "metadata": {
    "scrolled": true
   },
   "outputs": [],
   "source": [
    "# import necessary packages for stopwords, stemming, tokenizing\n",
    "from nltk.corpus import stopwords\n",
    "from nltk.stem import PorterStemmer\n",
    "from nltk.tokenize import sent_tokenize, word_tokenize\n",
    "\n",
    "# set stopword language\n",
    "stopeng = set(stopwords.words('english'))\n",
    "ps = PorterStemmer()"
   ]
  },
  {
   "cell_type": "code",
   "execution_count": 8,
   "metadata": {},
   "outputs": [],
   "source": [
    "def removeStopAndStem(text):\n",
    "    \"\"\"\n",
    "    Given a text string, removes stopwords and converts words to stems, then returns as one string.\n",
    "    \"\"\"\n",
    "    tokens = word_tokenize(text) # tokenize text\n",
    "    tokens_nostop = [w for w in tokens if w not in stopeng] # remove stopwords\n",
    "    tokens_stemmed = [ps.stem(w) for w in tokens_nostop if w != ps.stem(w)] # replace tokens with stems\n",
    "    text_nostop_stemmed = \" \".join([word for word in tokens_stemmed]) # join back to sentence form\n",
    "    return text_nostop_stemmed\n",
    "\n",
    "# function to apply removeStopAndStem to all entries\n",
    "stopRemoverAndStemmer = lambda x: removeStopAndStem(x)"
   ]
  },
  {
   "cell_type": "code",
   "execution_count": 9,
   "metadata": {},
   "outputs": [],
   "source": [
    "# remove stopwords, then stem comment body text\n",
    "comments['cleaned_body'] = pd.DataFrame(comments['cleaned_body'].apply(stopRemoverAndStemmer))"
   ]
  },
  {
   "cell_type": "code",
   "execution_count": 10,
   "metadata": {},
   "outputs": [
    {
     "data": {
      "text/html": [
       "<div>\n",
       "<style scoped>\n",
       "    .dataframe tbody tr th:only-of-type {\n",
       "        vertical-align: middle;\n",
       "    }\n",
       "\n",
       "    .dataframe tbody tr th {\n",
       "        vertical-align: top;\n",
       "    }\n",
       "\n",
       "    .dataframe thead th {\n",
       "        text-align: right;\n",
       "    }\n",
       "</style>\n",
       "<table border=\"1\" class=\"dataframe\">\n",
       "  <thead>\n",
       "    <tr style=\"text-align: right;\">\n",
       "      <th></th>\n",
       "      <th>Unnamed: 0</th>\n",
       "      <th>submission id</th>\n",
       "      <th>comment id</th>\n",
       "      <th>body</th>\n",
       "      <th>score</th>\n",
       "      <th>is_submitter</th>\n",
       "      <th>distinguished</th>\n",
       "      <th>cleaned_body</th>\n",
       "    </tr>\n",
       "  </thead>\n",
       "  <tbody>\n",
       "    <tr>\n",
       "      <th>0</th>\n",
       "      <td>0</td>\n",
       "      <td>r0mlaq</td>\n",
       "      <td>hltcpsw</td>\n",
       "      <td>Happy for you.  Side note but damn, they didn'...</td>\n",
       "      <td>243</td>\n",
       "      <td>False</td>\n",
       "      <td>NaN</td>\n",
       "      <td>happi theyr go realli awaken tri backfil</td>\n",
       "    </tr>\n",
       "    <tr>\n",
       "      <th>1</th>\n",
       "      <td>1</td>\n",
       "      <td>r0mlaq</td>\n",
       "      <td>hltku5i</td>\n",
       "      <td>My boss came in a few weeks ago bitching about...</td>\n",
       "      <td>190</td>\n",
       "      <td>False</td>\n",
       "      <td>NaN</td>\n",
       "      <td>week bitch expens everyth get ask get live rai...</td>\n",
       "    </tr>\n",
       "    <tr>\n",
       "      <th>2</th>\n",
       "      <td>2</td>\n",
       "      <td>r0mlaq</td>\n",
       "      <td>hlti2pf</td>\n",
       "      <td>Let us know how they respond when you give not...</td>\n",
       "      <td>53</td>\n",
       "      <td>False</td>\n",
       "      <td>NaN</td>\n",
       "      <td>notic pleas</td>\n",
       "    </tr>\n",
       "    <tr>\n",
       "      <th>3</th>\n",
       "      <td>3</td>\n",
       "      <td>r0mlaq</td>\n",
       "      <td>hltdpvt</td>\n",
       "      <td>Did they let you go? Either way, these people ...</td>\n",
       "      <td>32</td>\n",
       "      <td>False</td>\n",
       "      <td>NaN</td>\n",
       "      <td>peopl idiot manag think peopl employ</td>\n",
       "    </tr>\n",
       "    <tr>\n",
       "      <th>4</th>\n",
       "      <td>4</td>\n",
       "      <td>r0mlaq</td>\n",
       "      <td>hlu2q2d</td>\n",
       "      <td>Congratulations!!   After you have spent a few...</td>\n",
       "      <td>15</td>\n",
       "      <td>False</td>\n",
       "      <td>NaN</td>\n",
       "      <td>congratul month get comfort settl pleas abl co...</td>\n",
       "    </tr>\n",
       "  </tbody>\n",
       "</table>\n",
       "</div>"
      ],
      "text/plain": [
       "   Unnamed: 0 submission id comment id  \\\n",
       "0           0        r0mlaq    hltcpsw   \n",
       "1           1        r0mlaq    hltku5i   \n",
       "2           2        r0mlaq    hlti2pf   \n",
       "3           3        r0mlaq    hltdpvt   \n",
       "4           4        r0mlaq    hlu2q2d   \n",
       "\n",
       "                                                body  score  is_submitter  \\\n",
       "0  Happy for you.  Side note but damn, they didn'...    243         False   \n",
       "1  My boss came in a few weeks ago bitching about...    190         False   \n",
       "2  Let us know how they respond when you give not...     53         False   \n",
       "3  Did they let you go? Either way, these people ...     32         False   \n",
       "4  Congratulations!!   After you have spent a few...     15         False   \n",
       "\n",
       "  distinguished                                       cleaned_body  \n",
       "0           NaN           happi theyr go realli awaken tri backfil  \n",
       "1           NaN  week bitch expens everyth get ask get live rai...  \n",
       "2           NaN                                        notic pleas  \n",
       "3           NaN               peopl idiot manag think peopl employ  \n",
       "4           NaN  congratul month get comfort settl pleas abl co...  "
      ]
     },
     "execution_count": 10,
     "metadata": {},
     "output_type": "execute_result"
    }
   ],
   "source": [
    "# display data\n",
    "comments.head()"
   ]
  },
  {
   "cell_type": "markdown",
   "metadata": {},
   "source": [
    "## Part 2: Preliminary Analysis\n",
    "\n",
    "Now that we have a cleaned, stemmed, and stopword-free version of the comment bodies, we can start to perform some of the analysis on this text. For this preliminary analysis, we decided to collect the following attributes of each comment body:\n",
    "- Sentiment score (VADER and TextBlob)\n",
    "- Ratio of stopwords\n",
    "- Length of post\n",
    "- Readbility score (Gunning-Fog and Smog)"
   ]
  },
  {
   "cell_type": "markdown",
   "metadata": {},
   "source": [
    "### Sentiment Score Calculation\n",
    "\n",
    "We chose to measure sentiment for the comments using VADER and TextBlob. We start by importing the libraries necessary to perform this analysis."
   ]
  },
  {
   "cell_type": "code",
   "execution_count": 11,
   "metadata": {},
   "outputs": [],
   "source": [
    "# import packages for sentiment analysis\n",
    "from textblob import TextBlob\n",
    "from vaderSentiment.vaderSentiment import SentimentIntensityAnalyzer"
   ]
  },
  {
   "cell_type": "markdown",
   "metadata": {},
   "source": [
    "Then we can save the TextBlob scorer in a lambda function and apply it to all the cleaned rows in the dataframe."
   ]
  },
  {
   "cell_type": "code",
   "execution_count": 12,
   "metadata": {},
   "outputs": [],
   "source": [
    "def TextBlobSent(text):\n",
    "    \"\"\"\n",
    "    Given a text string, returns polarity of the text, scored by TextBlob.\n",
    "    \"\"\"\n",
    "    blob = TextBlob(text)\n",
    "    return blob.polarity\n",
    "\n",
    "# function to apply TextBlobSent to all entries\n",
    "TextBlobSentimentizer = lambda x: TextBlobSent(x)"
   ]
  },
  {
   "cell_type": "code",
   "execution_count": 13,
   "metadata": {},
   "outputs": [],
   "source": [
    "# score cleaned comment text on polarity\n",
    "comments['TextBlob'] = pd.DataFrame(comments['body'].apply(TextBlobSentimentizer))"
   ]
  },
  {
   "cell_type": "markdown",
   "metadata": {},
   "source": [
    "We can also add a column to the dataframe that categorizes the comments as \"positive,\" \"negative,\" or \"neutral\" depending on the TextBlob sentiment score. We know that VADER uses the following thresholds, so we will use the same for the TextBlob scores to control for as much as we can (and because they use the same scale).\n",
    "\n",
    "- Negative: Score <= -0.05\n",
    "- Neutral: -0.05 < Score < 0.05\n",
    "- Positive: Score >= 0.05"
   ]
  },
  {
   "cell_type": "code",
   "execution_count": 14,
   "metadata": {},
   "outputs": [],
   "source": [
    "def overallScore(compoundscore):\n",
    "    \"\"\"\n",
    "    Given polarity score, returns \"positive\", \"negative\", or \"neutral\" based on the sign of the score\n",
    "    (with 0.05 buffer).\n",
    "    \"\"\"\n",
    "    if compoundscore > 0.05:\n",
    "        return \"positive\"\n",
    "    elif compoundscore < -0.05:\n",
    "        return \"negative\"\n",
    "    else:\n",
    "        return \"neutral\"\n",
    "\n",
    "# function to apply overallScore to all entries\n",
    "overallScorer = lambda x: overallScore(x)"
   ]
  },
  {
   "cell_type": "code",
   "execution_count": 15,
   "metadata": {},
   "outputs": [],
   "source": [
    "# calculate sentiment category of TextBlob scores and store in new column\n",
    "comments['TextBlob_Category'] = pd.DataFrame(comments['TextBlob'].apply(overallScorer))"
   ]
  },
  {
   "cell_type": "markdown",
   "metadata": {},
   "source": [
    "We can also do the exact same process, except with the VADER scores this time."
   ]
  },
  {
   "cell_type": "code",
   "execution_count": 16,
   "metadata": {},
   "outputs": [],
   "source": [
    "# initialize VADER sentiment intensity analyzer\n",
    "analyzer = SentimentIntensityAnalyzer()\n",
    "\n",
    "def VADERSent(text):\n",
    "    \"\"\"\n",
    "    Given text string, returns compound polarity score, calculated using VADER sentiment analysis.\n",
    "    \"\"\"\n",
    "    return analyzer.polarity_scores(text)['compound']\n",
    "\n",
    "# function to apply VADERSent to all entries\n",
    "VADERSentimentizer = lambda x: VADERSent(x)"
   ]
  },
  {
   "cell_type": "code",
   "execution_count": 17,
   "metadata": {},
   "outputs": [],
   "source": [
    "# calculate VADER polarity score of each comment and store in new column\n",
    "comments['VADER'] = pd.DataFrame(comments['body'].apply(VADERSentimentizer))"
   ]
  },
  {
   "cell_type": "code",
   "execution_count": 18,
   "metadata": {},
   "outputs": [],
   "source": [
    "# calculate sentiment category of VADER scores and store in new column\n",
    "comments['VADER_Category'] = pd.DataFrame(comments['VADER'].apply(overallScorer))"
   ]
  },
  {
   "cell_type": "markdown",
   "metadata": {},
   "source": [
    "And now we can verify that everything has been added correctly."
   ]
  },
  {
   "cell_type": "code",
   "execution_count": 19,
   "metadata": {},
   "outputs": [
    {
     "data": {
      "text/html": [
       "<div>\n",
       "<style scoped>\n",
       "    .dataframe tbody tr th:only-of-type {\n",
       "        vertical-align: middle;\n",
       "    }\n",
       "\n",
       "    .dataframe tbody tr th {\n",
       "        vertical-align: top;\n",
       "    }\n",
       "\n",
       "    .dataframe thead th {\n",
       "        text-align: right;\n",
       "    }\n",
       "</style>\n",
       "<table border=\"1\" class=\"dataframe\">\n",
       "  <thead>\n",
       "    <tr style=\"text-align: right;\">\n",
       "      <th></th>\n",
       "      <th>Unnamed: 0</th>\n",
       "      <th>submission id</th>\n",
       "      <th>comment id</th>\n",
       "      <th>body</th>\n",
       "      <th>score</th>\n",
       "      <th>is_submitter</th>\n",
       "      <th>distinguished</th>\n",
       "      <th>cleaned_body</th>\n",
       "      <th>TextBlob</th>\n",
       "      <th>TextBlob_Category</th>\n",
       "      <th>VADER</th>\n",
       "      <th>VADER_Category</th>\n",
       "    </tr>\n",
       "  </thead>\n",
       "  <tbody>\n",
       "    <tr>\n",
       "      <th>0</th>\n",
       "      <td>0</td>\n",
       "      <td>r0mlaq</td>\n",
       "      <td>hltcpsw</td>\n",
       "      <td>Happy for you.  Side note but damn, they didn'...</td>\n",
       "      <td>243</td>\n",
       "      <td>False</td>\n",
       "      <td>NaN</td>\n",
       "      <td>happi theyr go realli awaken tri backfil</td>\n",
       "      <td>0.433333</td>\n",
       "      <td>positive</td>\n",
       "      <td>-0.4478</td>\n",
       "      <td>negative</td>\n",
       "    </tr>\n",
       "    <tr>\n",
       "      <th>1</th>\n",
       "      <td>1</td>\n",
       "      <td>r0mlaq</td>\n",
       "      <td>hltku5i</td>\n",
       "      <td>My boss came in a few weeks ago bitching about...</td>\n",
       "      <td>190</td>\n",
       "      <td>False</td>\n",
       "      <td>NaN</td>\n",
       "      <td>week bitch expens everyth get ask get live rai...</td>\n",
       "      <td>-0.030000</td>\n",
       "      <td>neutral</td>\n",
       "      <td>-0.2023</td>\n",
       "      <td>negative</td>\n",
       "    </tr>\n",
       "    <tr>\n",
       "      <th>2</th>\n",
       "      <td>2</td>\n",
       "      <td>r0mlaq</td>\n",
       "      <td>hlti2pf</td>\n",
       "      <td>Let us know how they respond when you give not...</td>\n",
       "      <td>53</td>\n",
       "      <td>False</td>\n",
       "      <td>NaN</td>\n",
       "      <td>notic pleas</td>\n",
       "      <td>0.000000</td>\n",
       "      <td>neutral</td>\n",
       "      <td>0.3182</td>\n",
       "      <td>positive</td>\n",
       "    </tr>\n",
       "    <tr>\n",
       "      <th>3</th>\n",
       "      <td>3</td>\n",
       "      <td>r0mlaq</td>\n",
       "      <td>hltdpvt</td>\n",
       "      <td>Did they let you go? Either way, these people ...</td>\n",
       "      <td>32</td>\n",
       "      <td>False</td>\n",
       "      <td>NaN</td>\n",
       "      <td>peopl idiot manag think peopl employ</td>\n",
       "      <td>-0.800000</td>\n",
       "      <td>negative</td>\n",
       "      <td>0.1280</td>\n",
       "      <td>positive</td>\n",
       "    </tr>\n",
       "    <tr>\n",
       "      <th>4</th>\n",
       "      <td>4</td>\n",
       "      <td>r0mlaq</td>\n",
       "      <td>hlu2q2d</td>\n",
       "      <td>Congratulations!!   After you have spent a few...</td>\n",
       "      <td>15</td>\n",
       "      <td>False</td>\n",
       "      <td>NaN</td>\n",
       "      <td>congratul month get comfort settl pleas abl co...</td>\n",
       "      <td>0.204040</td>\n",
       "      <td>positive</td>\n",
       "      <td>0.9594</td>\n",
       "      <td>positive</td>\n",
       "    </tr>\n",
       "  </tbody>\n",
       "</table>\n",
       "</div>"
      ],
      "text/plain": [
       "   Unnamed: 0 submission id comment id  \\\n",
       "0           0        r0mlaq    hltcpsw   \n",
       "1           1        r0mlaq    hltku5i   \n",
       "2           2        r0mlaq    hlti2pf   \n",
       "3           3        r0mlaq    hltdpvt   \n",
       "4           4        r0mlaq    hlu2q2d   \n",
       "\n",
       "                                                body  score  is_submitter  \\\n",
       "0  Happy for you.  Side note but damn, they didn'...    243         False   \n",
       "1  My boss came in a few weeks ago bitching about...    190         False   \n",
       "2  Let us know how they respond when you give not...     53         False   \n",
       "3  Did they let you go? Either way, these people ...     32         False   \n",
       "4  Congratulations!!   After you have spent a few...     15         False   \n",
       "\n",
       "  distinguished                                       cleaned_body  TextBlob  \\\n",
       "0           NaN           happi theyr go realli awaken tri backfil  0.433333   \n",
       "1           NaN  week bitch expens everyth get ask get live rai... -0.030000   \n",
       "2           NaN                                        notic pleas  0.000000   \n",
       "3           NaN               peopl idiot manag think peopl employ -0.800000   \n",
       "4           NaN  congratul month get comfort settl pleas abl co...  0.204040   \n",
       "\n",
       "  TextBlob_Category   VADER VADER_Category  \n",
       "0          positive -0.4478       negative  \n",
       "1           neutral -0.2023       negative  \n",
       "2           neutral  0.3182       positive  \n",
       "3          negative  0.1280       positive  \n",
       "4          positive  0.9594       positive  "
      ]
     },
     "execution_count": 19,
     "metadata": {},
     "output_type": "execute_result"
    }
   ],
   "source": [
    "comments.head()"
   ]
  },
  {
   "cell_type": "markdown",
   "metadata": {},
   "source": [
    "### Ratio of Stopwords and Length of Post\n",
    "\n",
    "To find the ratio of stopwords in the post, we have to work with the original body instead of the cleaned body, because the cleaned body has all of the stopwords already removed. We can do this by creating a function that takes in the body of the comment and divides the number of stopwords by the total number of words, then saving this as a lambda function and applying it to all of the rows, as we did with the sentiment analysis above."
   ]
  },
  {
   "cell_type": "code",
   "execution_count": 20,
   "metadata": {},
   "outputs": [],
   "source": [
    "def stopwordRatio(text):\n",
    "    \"\"\"\n",
    "    Given text string, returns the ratio of English stopwords to total word count.\n",
    "    \"\"\"\n",
    "    tokens = word_tokenize(text)\n",
    "    total_words = len(tokens)\n",
    "    total_stopwords = 0\n",
    "    # count stopwords\n",
    "    for token in tokens:\n",
    "        if token in stopeng:\n",
    "            total_stopwords += 1\n",
    "    return total_stopwords / total_words\n",
    "\n",
    "# function to apply stopwordRatioFinder to all entries\n",
    "stopwordRatioFinder = lambda x: stopwordRatio(x)"
   ]
  },
  {
   "cell_type": "code",
   "execution_count": 21,
   "metadata": {},
   "outputs": [],
   "source": [
    "# calculate stopword ratio of each comment and store in new column\n",
    "comments['stopword_ratio'] = pd.DataFrame(comments['body'].apply(stopwordRatioFinder))"
   ]
  },
  {
   "cell_type": "markdown",
   "metadata": {},
   "source": [
    "And we can verify that this column has been added correctly."
   ]
  },
  {
   "cell_type": "code",
   "execution_count": 22,
   "metadata": {},
   "outputs": [
    {
     "data": {
      "text/html": [
       "<div>\n",
       "<style scoped>\n",
       "    .dataframe tbody tr th:only-of-type {\n",
       "        vertical-align: middle;\n",
       "    }\n",
       "\n",
       "    .dataframe tbody tr th {\n",
       "        vertical-align: top;\n",
       "    }\n",
       "\n",
       "    .dataframe thead th {\n",
       "        text-align: right;\n",
       "    }\n",
       "</style>\n",
       "<table border=\"1\" class=\"dataframe\">\n",
       "  <thead>\n",
       "    <tr style=\"text-align: right;\">\n",
       "      <th></th>\n",
       "      <th>Unnamed: 0</th>\n",
       "      <th>submission id</th>\n",
       "      <th>comment id</th>\n",
       "      <th>body</th>\n",
       "      <th>score</th>\n",
       "      <th>is_submitter</th>\n",
       "      <th>distinguished</th>\n",
       "      <th>cleaned_body</th>\n",
       "      <th>TextBlob</th>\n",
       "      <th>TextBlob_Category</th>\n",
       "      <th>VADER</th>\n",
       "      <th>VADER_Category</th>\n",
       "      <th>stopword_ratio</th>\n",
       "    </tr>\n",
       "  </thead>\n",
       "  <tbody>\n",
       "    <tr>\n",
       "      <th>0</th>\n",
       "      <td>0</td>\n",
       "      <td>r0mlaq</td>\n",
       "      <td>hltcpsw</td>\n",
       "      <td>Happy for you.  Side note but damn, they didn'...</td>\n",
       "      <td>243</td>\n",
       "      <td>False</td>\n",
       "      <td>NaN</td>\n",
       "      <td>happi theyr go realli awaken tri backfil</td>\n",
       "      <td>0.433333</td>\n",
       "      <td>positive</td>\n",
       "      <td>-0.4478</td>\n",
       "      <td>negative</td>\n",
       "      <td>0.414634</td>\n",
       "    </tr>\n",
       "    <tr>\n",
       "      <th>1</th>\n",
       "      <td>1</td>\n",
       "      <td>r0mlaq</td>\n",
       "      <td>hltku5i</td>\n",
       "      <td>My boss came in a few weeks ago bitching about...</td>\n",
       "      <td>190</td>\n",
       "      <td>False</td>\n",
       "      <td>NaN</td>\n",
       "      <td>week bitch expens everyth get ask get live rai...</td>\n",
       "      <td>-0.030000</td>\n",
       "      <td>neutral</td>\n",
       "      <td>-0.2023</td>\n",
       "      <td>negative</td>\n",
       "      <td>0.318182</td>\n",
       "    </tr>\n",
       "    <tr>\n",
       "      <th>2</th>\n",
       "      <td>2</td>\n",
       "      <td>r0mlaq</td>\n",
       "      <td>hlti2pf</td>\n",
       "      <td>Let us know how they respond when you give not...</td>\n",
       "      <td>53</td>\n",
       "      <td>False</td>\n",
       "      <td>NaN</td>\n",
       "      <td>notic pleas</td>\n",
       "      <td>0.000000</td>\n",
       "      <td>neutral</td>\n",
       "      <td>0.3182</td>\n",
       "      <td>positive</td>\n",
       "      <td>0.307692</td>\n",
       "    </tr>\n",
       "    <tr>\n",
       "      <th>3</th>\n",
       "      <td>3</td>\n",
       "      <td>r0mlaq</td>\n",
       "      <td>hltdpvt</td>\n",
       "      <td>Did they let you go? Either way, these people ...</td>\n",
       "      <td>32</td>\n",
       "      <td>False</td>\n",
       "      <td>NaN</td>\n",
       "      <td>peopl idiot manag think peopl employ</td>\n",
       "      <td>-0.800000</td>\n",
       "      <td>negative</td>\n",
       "      <td>0.1280</td>\n",
       "      <td>positive</td>\n",
       "      <td>0.379310</td>\n",
       "    </tr>\n",
       "    <tr>\n",
       "      <th>4</th>\n",
       "      <td>4</td>\n",
       "      <td>r0mlaq</td>\n",
       "      <td>hlu2q2d</td>\n",
       "      <td>Congratulations!!   After you have spent a few...</td>\n",
       "      <td>15</td>\n",
       "      <td>False</td>\n",
       "      <td>NaN</td>\n",
       "      <td>congratul month get comfort settl pleas abl co...</td>\n",
       "      <td>0.204040</td>\n",
       "      <td>positive</td>\n",
       "      <td>0.9594</td>\n",
       "      <td>positive</td>\n",
       "      <td>0.365079</td>\n",
       "    </tr>\n",
       "  </tbody>\n",
       "</table>\n",
       "</div>"
      ],
      "text/plain": [
       "   Unnamed: 0 submission id comment id  \\\n",
       "0           0        r0mlaq    hltcpsw   \n",
       "1           1        r0mlaq    hltku5i   \n",
       "2           2        r0mlaq    hlti2pf   \n",
       "3           3        r0mlaq    hltdpvt   \n",
       "4           4        r0mlaq    hlu2q2d   \n",
       "\n",
       "                                                body  score  is_submitter  \\\n",
       "0  Happy for you.  Side note but damn, they didn'...    243         False   \n",
       "1  My boss came in a few weeks ago bitching about...    190         False   \n",
       "2  Let us know how they respond when you give not...     53         False   \n",
       "3  Did they let you go? Either way, these people ...     32         False   \n",
       "4  Congratulations!!   After you have spent a few...     15         False   \n",
       "\n",
       "  distinguished                                       cleaned_body  TextBlob  \\\n",
       "0           NaN           happi theyr go realli awaken tri backfil  0.433333   \n",
       "1           NaN  week bitch expens everyth get ask get live rai... -0.030000   \n",
       "2           NaN                                        notic pleas  0.000000   \n",
       "3           NaN               peopl idiot manag think peopl employ -0.800000   \n",
       "4           NaN  congratul month get comfort settl pleas abl co...  0.204040   \n",
       "\n",
       "  TextBlob_Category   VADER VADER_Category  stopword_ratio  \n",
       "0          positive -0.4478       negative        0.414634  \n",
       "1           neutral -0.2023       negative        0.318182  \n",
       "2           neutral  0.3182       positive        0.307692  \n",
       "3          negative  0.1280       positive        0.379310  \n",
       "4          positive  0.9594       positive        0.365079  "
      ]
     },
     "execution_count": 22,
     "metadata": {},
     "output_type": "execute_result"
    }
   ],
   "source": [
    "comments.head()"
   ]
  },
  {
   "cell_type": "markdown",
   "metadata": {},
   "source": [
    "Finding the length of the post is also a very similar process, but instead, we just return the total number of words in the text. Again, we will work with the original body for this."
   ]
  },
  {
   "cell_type": "code",
   "execution_count": 23,
   "metadata": {},
   "outputs": [],
   "source": [
    "def textLength(text):\n",
    "    \"\"\"\n",
    "    Given text string, returns word count.\n",
    "    \"\"\"\n",
    "    tokens = word_tokenize(text)\n",
    "    return len(tokens)\n",
    "\n",
    "# function to apply textLengthFinder to all entries\n",
    "textLengthFinder = lambda x: textLength(x)"
   ]
  },
  {
   "cell_type": "code",
   "execution_count": 24,
   "metadata": {},
   "outputs": [],
   "source": [
    "# calculate stopword ratio of each comment and store in new column\n",
    "comments['body_length'] = pd.DataFrame(comments['body'].apply(textLengthFinder))"
   ]
  },
  {
   "cell_type": "markdown",
   "metadata": {},
   "source": [
    "And again, we can verify that this was added correctly."
   ]
  },
  {
   "cell_type": "code",
   "execution_count": 25,
   "metadata": {},
   "outputs": [
    {
     "data": {
      "text/html": [
       "<div>\n",
       "<style scoped>\n",
       "    .dataframe tbody tr th:only-of-type {\n",
       "        vertical-align: middle;\n",
       "    }\n",
       "\n",
       "    .dataframe tbody tr th {\n",
       "        vertical-align: top;\n",
       "    }\n",
       "\n",
       "    .dataframe thead th {\n",
       "        text-align: right;\n",
       "    }\n",
       "</style>\n",
       "<table border=\"1\" class=\"dataframe\">\n",
       "  <thead>\n",
       "    <tr style=\"text-align: right;\">\n",
       "      <th></th>\n",
       "      <th>Unnamed: 0</th>\n",
       "      <th>submission id</th>\n",
       "      <th>comment id</th>\n",
       "      <th>body</th>\n",
       "      <th>score</th>\n",
       "      <th>is_submitter</th>\n",
       "      <th>distinguished</th>\n",
       "      <th>cleaned_body</th>\n",
       "      <th>TextBlob</th>\n",
       "      <th>TextBlob_Category</th>\n",
       "      <th>VADER</th>\n",
       "      <th>VADER_Category</th>\n",
       "      <th>stopword_ratio</th>\n",
       "      <th>body_length</th>\n",
       "    </tr>\n",
       "  </thead>\n",
       "  <tbody>\n",
       "    <tr>\n",
       "      <th>0</th>\n",
       "      <td>0</td>\n",
       "      <td>r0mlaq</td>\n",
       "      <td>hltcpsw</td>\n",
       "      <td>Happy for you.  Side note but damn, they didn'...</td>\n",
       "      <td>243</td>\n",
       "      <td>False</td>\n",
       "      <td>NaN</td>\n",
       "      <td>happi theyr go realli awaken tri backfil</td>\n",
       "      <td>0.433333</td>\n",
       "      <td>positive</td>\n",
       "      <td>-0.4478</td>\n",
       "      <td>negative</td>\n",
       "      <td>0.414634</td>\n",
       "      <td>41</td>\n",
       "    </tr>\n",
       "    <tr>\n",
       "      <th>1</th>\n",
       "      <td>1</td>\n",
       "      <td>r0mlaq</td>\n",
       "      <td>hltku5i</td>\n",
       "      <td>My boss came in a few weeks ago bitching about...</td>\n",
       "      <td>190</td>\n",
       "      <td>False</td>\n",
       "      <td>NaN</td>\n",
       "      <td>week bitch expens everyth get ask get live rai...</td>\n",
       "      <td>-0.030000</td>\n",
       "      <td>neutral</td>\n",
       "      <td>-0.2023</td>\n",
       "      <td>negative</td>\n",
       "      <td>0.318182</td>\n",
       "      <td>44</td>\n",
       "    </tr>\n",
       "    <tr>\n",
       "      <th>2</th>\n",
       "      <td>2</td>\n",
       "      <td>r0mlaq</td>\n",
       "      <td>hlti2pf</td>\n",
       "      <td>Let us know how they respond when you give not...</td>\n",
       "      <td>53</td>\n",
       "      <td>False</td>\n",
       "      <td>NaN</td>\n",
       "      <td>notic pleas</td>\n",
       "      <td>0.000000</td>\n",
       "      <td>neutral</td>\n",
       "      <td>0.3182</td>\n",
       "      <td>positive</td>\n",
       "      <td>0.307692</td>\n",
       "      <td>13</td>\n",
       "    </tr>\n",
       "    <tr>\n",
       "      <th>3</th>\n",
       "      <td>3</td>\n",
       "      <td>r0mlaq</td>\n",
       "      <td>hltdpvt</td>\n",
       "      <td>Did they let you go? Either way, these people ...</td>\n",
       "      <td>32</td>\n",
       "      <td>False</td>\n",
       "      <td>NaN</td>\n",
       "      <td>peopl idiot manag think peopl employ</td>\n",
       "      <td>-0.800000</td>\n",
       "      <td>negative</td>\n",
       "      <td>0.1280</td>\n",
       "      <td>positive</td>\n",
       "      <td>0.379310</td>\n",
       "      <td>29</td>\n",
       "    </tr>\n",
       "    <tr>\n",
       "      <th>4</th>\n",
       "      <td>4</td>\n",
       "      <td>r0mlaq</td>\n",
       "      <td>hlu2q2d</td>\n",
       "      <td>Congratulations!!   After you have spent a few...</td>\n",
       "      <td>15</td>\n",
       "      <td>False</td>\n",
       "      <td>NaN</td>\n",
       "      <td>congratul month get comfort settl pleas abl co...</td>\n",
       "      <td>0.204040</td>\n",
       "      <td>positive</td>\n",
       "      <td>0.9594</td>\n",
       "      <td>positive</td>\n",
       "      <td>0.365079</td>\n",
       "      <td>63</td>\n",
       "    </tr>\n",
       "  </tbody>\n",
       "</table>\n",
       "</div>"
      ],
      "text/plain": [
       "   Unnamed: 0 submission id comment id  \\\n",
       "0           0        r0mlaq    hltcpsw   \n",
       "1           1        r0mlaq    hltku5i   \n",
       "2           2        r0mlaq    hlti2pf   \n",
       "3           3        r0mlaq    hltdpvt   \n",
       "4           4        r0mlaq    hlu2q2d   \n",
       "\n",
       "                                                body  score  is_submitter  \\\n",
       "0  Happy for you.  Side note but damn, they didn'...    243         False   \n",
       "1  My boss came in a few weeks ago bitching about...    190         False   \n",
       "2  Let us know how they respond when you give not...     53         False   \n",
       "3  Did they let you go? Either way, these people ...     32         False   \n",
       "4  Congratulations!!   After you have spent a few...     15         False   \n",
       "\n",
       "  distinguished                                       cleaned_body  TextBlob  \\\n",
       "0           NaN           happi theyr go realli awaken tri backfil  0.433333   \n",
       "1           NaN  week bitch expens everyth get ask get live rai... -0.030000   \n",
       "2           NaN                                        notic pleas  0.000000   \n",
       "3           NaN               peopl idiot manag think peopl employ -0.800000   \n",
       "4           NaN  congratul month get comfort settl pleas abl co...  0.204040   \n",
       "\n",
       "  TextBlob_Category   VADER VADER_Category  stopword_ratio  body_length  \n",
       "0          positive -0.4478       negative        0.414634           41  \n",
       "1           neutral -0.2023       negative        0.318182           44  \n",
       "2           neutral  0.3182       positive        0.307692           13  \n",
       "3          negative  0.1280       positive        0.379310           29  \n",
       "4          positive  0.9594       positive        0.365079           63  "
      ]
     },
     "execution_count": 25,
     "metadata": {},
     "output_type": "execute_result"
    }
   ],
   "source": [
    "comments.head()"
   ]
  },
  {
   "cell_type": "markdown",
   "metadata": {},
   "source": [
    "### Readability Scores\n",
    "\n",
    "The final variable we chose to include for this part of the analysis was readability scores. We will use the both Gunning-Fog and the Smog Readability Index scores to measure the readability of each comment. Again, we will use the original body for this analysis, as the cleaned body is nonsensical with the stopwords removed and the words stemmed."
   ]
  },
  {
   "cell_type": "code",
   "execution_count": 26,
   "metadata": {},
   "outputs": [],
   "source": [
    "import textstat"
   ]
  },
  {
   "cell_type": "code",
   "execution_count": 27,
   "metadata": {},
   "outputs": [],
   "source": [
    "def smog(text):\n",
    "    \"\"\"\n",
    "    Given text string, returns SMOG readability grade.\n",
    "    \"\"\"\n",
    "    return textstat.smog_index(text.lower())\n",
    "\n",
    "# function to apply smog calculation function to all entries\n",
    "smog_finder = lambda x: smog(x)"
   ]
  },
  {
   "cell_type": "code",
   "execution_count": 28,
   "metadata": {},
   "outputs": [],
   "source": [
    "# calculate SMOG grade of each comment and store in new column\n",
    "comments['smog_score'] = pd.DataFrame(comments['body'].apply(smog_finder))"
   ]
  },
  {
   "cell_type": "code",
   "execution_count": 29,
   "metadata": {},
   "outputs": [
    {
     "data": {
      "text/html": [
       "<div>\n",
       "<style scoped>\n",
       "    .dataframe tbody tr th:only-of-type {\n",
       "        vertical-align: middle;\n",
       "    }\n",
       "\n",
       "    .dataframe tbody tr th {\n",
       "        vertical-align: top;\n",
       "    }\n",
       "\n",
       "    .dataframe thead th {\n",
       "        text-align: right;\n",
       "    }\n",
       "</style>\n",
       "<table border=\"1\" class=\"dataframe\">\n",
       "  <thead>\n",
       "    <tr style=\"text-align: right;\">\n",
       "      <th></th>\n",
       "      <th>Unnamed: 0</th>\n",
       "      <th>submission id</th>\n",
       "      <th>comment id</th>\n",
       "      <th>body</th>\n",
       "      <th>score</th>\n",
       "      <th>is_submitter</th>\n",
       "      <th>distinguished</th>\n",
       "      <th>cleaned_body</th>\n",
       "      <th>TextBlob</th>\n",
       "      <th>TextBlob_Category</th>\n",
       "      <th>VADER</th>\n",
       "      <th>VADER_Category</th>\n",
       "      <th>stopword_ratio</th>\n",
       "      <th>body_length</th>\n",
       "      <th>smog_score</th>\n",
       "    </tr>\n",
       "  </thead>\n",
       "  <tbody>\n",
       "    <tr>\n",
       "      <th>0</th>\n",
       "      <td>0</td>\n",
       "      <td>r0mlaq</td>\n",
       "      <td>hltcpsw</td>\n",
       "      <td>Happy for you.  Side note but damn, they didn'...</td>\n",
       "      <td>243</td>\n",
       "      <td>False</td>\n",
       "      <td>NaN</td>\n",
       "      <td>happi theyr go realli awaken tri backfil</td>\n",
       "      <td>0.433333</td>\n",
       "      <td>positive</td>\n",
       "      <td>-0.4478</td>\n",
       "      <td>negative</td>\n",
       "      <td>0.414634</td>\n",
       "      <td>41</td>\n",
       "      <td>7.8</td>\n",
       "    </tr>\n",
       "    <tr>\n",
       "      <th>1</th>\n",
       "      <td>1</td>\n",
       "      <td>r0mlaq</td>\n",
       "      <td>hltku5i</td>\n",
       "      <td>My boss came in a few weeks ago bitching about...</td>\n",
       "      <td>190</td>\n",
       "      <td>False</td>\n",
       "      <td>NaN</td>\n",
       "      <td>week bitch expens everyth get ask get live rai...</td>\n",
       "      <td>-0.030000</td>\n",
       "      <td>neutral</td>\n",
       "      <td>-0.2023</td>\n",
       "      <td>negative</td>\n",
       "      <td>0.318182</td>\n",
       "      <td>44</td>\n",
       "      <td>7.8</td>\n",
       "    </tr>\n",
       "    <tr>\n",
       "      <th>2</th>\n",
       "      <td>2</td>\n",
       "      <td>r0mlaq</td>\n",
       "      <td>hlti2pf</td>\n",
       "      <td>Let us know how they respond when you give not...</td>\n",
       "      <td>53</td>\n",
       "      <td>False</td>\n",
       "      <td>NaN</td>\n",
       "      <td>notic pleas</td>\n",
       "      <td>0.000000</td>\n",
       "      <td>neutral</td>\n",
       "      <td>0.3182</td>\n",
       "      <td>positive</td>\n",
       "      <td>0.307692</td>\n",
       "      <td>13</td>\n",
       "      <td>0.0</td>\n",
       "    </tr>\n",
       "    <tr>\n",
       "      <th>3</th>\n",
       "      <td>3</td>\n",
       "      <td>r0mlaq</td>\n",
       "      <td>hltdpvt</td>\n",
       "      <td>Did they let you go? Either way, these people ...</td>\n",
       "      <td>32</td>\n",
       "      <td>False</td>\n",
       "      <td>NaN</td>\n",
       "      <td>peopl idiot manag think peopl employ</td>\n",
       "      <td>-0.800000</td>\n",
       "      <td>negative</td>\n",
       "      <td>0.1280</td>\n",
       "      <td>positive</td>\n",
       "      <td>0.379310</td>\n",
       "      <td>29</td>\n",
       "      <td>7.8</td>\n",
       "    </tr>\n",
       "    <tr>\n",
       "      <th>4</th>\n",
       "      <td>4</td>\n",
       "      <td>r0mlaq</td>\n",
       "      <td>hlu2q2d</td>\n",
       "      <td>Congratulations!!   After you have spent a few...</td>\n",
       "      <td>15</td>\n",
       "      <td>False</td>\n",
       "      <td>NaN</td>\n",
       "      <td>congratul month get comfort settl pleas abl co...</td>\n",
       "      <td>0.204040</td>\n",
       "      <td>positive</td>\n",
       "      <td>0.9594</td>\n",
       "      <td>positive</td>\n",
       "      <td>0.365079</td>\n",
       "      <td>63</td>\n",
       "      <td>8.8</td>\n",
       "    </tr>\n",
       "  </tbody>\n",
       "</table>\n",
       "</div>"
      ],
      "text/plain": [
       "   Unnamed: 0 submission id comment id  \\\n",
       "0           0        r0mlaq    hltcpsw   \n",
       "1           1        r0mlaq    hltku5i   \n",
       "2           2        r0mlaq    hlti2pf   \n",
       "3           3        r0mlaq    hltdpvt   \n",
       "4           4        r0mlaq    hlu2q2d   \n",
       "\n",
       "                                                body  score  is_submitter  \\\n",
       "0  Happy for you.  Side note but damn, they didn'...    243         False   \n",
       "1  My boss came in a few weeks ago bitching about...    190         False   \n",
       "2  Let us know how they respond when you give not...     53         False   \n",
       "3  Did they let you go? Either way, these people ...     32         False   \n",
       "4  Congratulations!!   After you have spent a few...     15         False   \n",
       "\n",
       "  distinguished                                       cleaned_body  TextBlob  \\\n",
       "0           NaN           happi theyr go realli awaken tri backfil  0.433333   \n",
       "1           NaN  week bitch expens everyth get ask get live rai... -0.030000   \n",
       "2           NaN                                        notic pleas  0.000000   \n",
       "3           NaN               peopl idiot manag think peopl employ -0.800000   \n",
       "4           NaN  congratul month get comfort settl pleas abl co...  0.204040   \n",
       "\n",
       "  TextBlob_Category   VADER VADER_Category  stopword_ratio  body_length  \\\n",
       "0          positive -0.4478       negative        0.414634           41   \n",
       "1           neutral -0.2023       negative        0.318182           44   \n",
       "2           neutral  0.3182       positive        0.307692           13   \n",
       "3          negative  0.1280       positive        0.379310           29   \n",
       "4          positive  0.9594       positive        0.365079           63   \n",
       "\n",
       "   smog_score  \n",
       "0         7.8  \n",
       "1         7.8  \n",
       "2         0.0  \n",
       "3         7.8  \n",
       "4         8.8  "
      ]
     },
     "execution_count": 29,
     "metadata": {},
     "output_type": "execute_result"
    }
   ],
   "source": [
    "comments.head()"
   ]
  },
  {
   "cell_type": "code",
   "execution_count": 30,
   "metadata": {},
   "outputs": [],
   "source": [
    "def gunning_fog(text):\n",
    "    \"\"\"\n",
    "    Given text string, returns Gunning-Fog readability score.\n",
    "    \"\"\"\n",
    "    return textstat.gunning_fog(text.lower())\n",
    "\n",
    "# function to apply gunning_fog_finder to all entries\n",
    "gunning_fog_finder = lambda x: gunning_fog(x)"
   ]
  },
  {
   "cell_type": "code",
   "execution_count": 31,
   "metadata": {},
   "outputs": [],
   "source": [
    "# calculate Gunning Fog score of each comment and store in new column\n",
    "comments['gunning_fog_score'] = pd.DataFrame(comments['body'].apply(gunning_fog_finder))"
   ]
  },
  {
   "cell_type": "markdown",
   "metadata": {},
   "source": [
    "And of course, we can verify that these columns have been added correctly!"
   ]
  },
  {
   "cell_type": "code",
   "execution_count": 32,
   "metadata": {},
   "outputs": [
    {
     "data": {
      "text/html": [
       "<div>\n",
       "<style scoped>\n",
       "    .dataframe tbody tr th:only-of-type {\n",
       "        vertical-align: middle;\n",
       "    }\n",
       "\n",
       "    .dataframe tbody tr th {\n",
       "        vertical-align: top;\n",
       "    }\n",
       "\n",
       "    .dataframe thead th {\n",
       "        text-align: right;\n",
       "    }\n",
       "</style>\n",
       "<table border=\"1\" class=\"dataframe\">\n",
       "  <thead>\n",
       "    <tr style=\"text-align: right;\">\n",
       "      <th></th>\n",
       "      <th>Unnamed: 0</th>\n",
       "      <th>submission id</th>\n",
       "      <th>comment id</th>\n",
       "      <th>body</th>\n",
       "      <th>score</th>\n",
       "      <th>is_submitter</th>\n",
       "      <th>distinguished</th>\n",
       "      <th>cleaned_body</th>\n",
       "      <th>TextBlob</th>\n",
       "      <th>TextBlob_Category</th>\n",
       "      <th>VADER</th>\n",
       "      <th>VADER_Category</th>\n",
       "      <th>stopword_ratio</th>\n",
       "      <th>body_length</th>\n",
       "      <th>smog_score</th>\n",
       "      <th>gunning_fog_score</th>\n",
       "    </tr>\n",
       "  </thead>\n",
       "  <tbody>\n",
       "    <tr>\n",
       "      <th>0</th>\n",
       "      <td>0</td>\n",
       "      <td>r0mlaq</td>\n",
       "      <td>hltcpsw</td>\n",
       "      <td>Happy for you.  Side note but damn, they didn'...</td>\n",
       "      <td>243</td>\n",
       "      <td>False</td>\n",
       "      <td>NaN</td>\n",
       "      <td>happi theyr go realli awaken tri backfil</td>\n",
       "      <td>0.433333</td>\n",
       "      <td>positive</td>\n",
       "      <td>-0.4478</td>\n",
       "      <td>negative</td>\n",
       "      <td>0.414634</td>\n",
       "      <td>41</td>\n",
       "      <td>7.8</td>\n",
       "      <td>5.82</td>\n",
       "    </tr>\n",
       "    <tr>\n",
       "      <th>1</th>\n",
       "      <td>1</td>\n",
       "      <td>r0mlaq</td>\n",
       "      <td>hltku5i</td>\n",
       "      <td>My boss came in a few weeks ago bitching about...</td>\n",
       "      <td>190</td>\n",
       "      <td>False</td>\n",
       "      <td>NaN</td>\n",
       "      <td>week bitch expens everyth get ask get live rai...</td>\n",
       "      <td>-0.030000</td>\n",
       "      <td>neutral</td>\n",
       "      <td>-0.2023</td>\n",
       "      <td>negative</td>\n",
       "      <td>0.318182</td>\n",
       "      <td>44</td>\n",
       "      <td>7.8</td>\n",
       "      <td>6.23</td>\n",
       "    </tr>\n",
       "    <tr>\n",
       "      <th>2</th>\n",
       "      <td>2</td>\n",
       "      <td>r0mlaq</td>\n",
       "      <td>hlti2pf</td>\n",
       "      <td>Let us know how they respond when you give not...</td>\n",
       "      <td>53</td>\n",
       "      <td>False</td>\n",
       "      <td>NaN</td>\n",
       "      <td>notic pleas</td>\n",
       "      <td>0.000000</td>\n",
       "      <td>neutral</td>\n",
       "      <td>0.3182</td>\n",
       "      <td>positive</td>\n",
       "      <td>0.307692</td>\n",
       "      <td>13</td>\n",
       "      <td>0.0</td>\n",
       "      <td>4.40</td>\n",
       "    </tr>\n",
       "    <tr>\n",
       "      <th>3</th>\n",
       "      <td>3</td>\n",
       "      <td>r0mlaq</td>\n",
       "      <td>hltdpvt</td>\n",
       "      <td>Did they let you go? Either way, these people ...</td>\n",
       "      <td>32</td>\n",
       "      <td>False</td>\n",
       "      <td>NaN</td>\n",
       "      <td>peopl idiot manag think peopl employ</td>\n",
       "      <td>-0.800000</td>\n",
       "      <td>negative</td>\n",
       "      <td>0.1280</td>\n",
       "      <td>positive</td>\n",
       "      <td>0.379310</td>\n",
       "      <td>29</td>\n",
       "      <td>7.8</td>\n",
       "      <td>6.52</td>\n",
       "    </tr>\n",
       "    <tr>\n",
       "      <th>4</th>\n",
       "      <td>4</td>\n",
       "      <td>r0mlaq</td>\n",
       "      <td>hlu2q2d</td>\n",
       "      <td>Congratulations!!   After you have spent a few...</td>\n",
       "      <td>15</td>\n",
       "      <td>False</td>\n",
       "      <td>NaN</td>\n",
       "      <td>congratul month get comfort settl pleas abl co...</td>\n",
       "      <td>0.204040</td>\n",
       "      <td>positive</td>\n",
       "      <td>0.9594</td>\n",
       "      <td>positive</td>\n",
       "      <td>0.365079</td>\n",
       "      <td>63</td>\n",
       "      <td>8.8</td>\n",
       "      <td>7.51</td>\n",
       "    </tr>\n",
       "  </tbody>\n",
       "</table>\n",
       "</div>"
      ],
      "text/plain": [
       "   Unnamed: 0 submission id comment id  \\\n",
       "0           0        r0mlaq    hltcpsw   \n",
       "1           1        r0mlaq    hltku5i   \n",
       "2           2        r0mlaq    hlti2pf   \n",
       "3           3        r0mlaq    hltdpvt   \n",
       "4           4        r0mlaq    hlu2q2d   \n",
       "\n",
       "                                                body  score  is_submitter  \\\n",
       "0  Happy for you.  Side note but damn, they didn'...    243         False   \n",
       "1  My boss came in a few weeks ago bitching about...    190         False   \n",
       "2  Let us know how they respond when you give not...     53         False   \n",
       "3  Did they let you go? Either way, these people ...     32         False   \n",
       "4  Congratulations!!   After you have spent a few...     15         False   \n",
       "\n",
       "  distinguished                                       cleaned_body  TextBlob  \\\n",
       "0           NaN           happi theyr go realli awaken tri backfil  0.433333   \n",
       "1           NaN  week bitch expens everyth get ask get live rai... -0.030000   \n",
       "2           NaN                                        notic pleas  0.000000   \n",
       "3           NaN               peopl idiot manag think peopl employ -0.800000   \n",
       "4           NaN  congratul month get comfort settl pleas abl co...  0.204040   \n",
       "\n",
       "  TextBlob_Category   VADER VADER_Category  stopword_ratio  body_length  \\\n",
       "0          positive -0.4478       negative        0.414634           41   \n",
       "1           neutral -0.2023       negative        0.318182           44   \n",
       "2           neutral  0.3182       positive        0.307692           13   \n",
       "3          negative  0.1280       positive        0.379310           29   \n",
       "4          positive  0.9594       positive        0.365079           63   \n",
       "\n",
       "   smog_score  gunning_fog_score  \n",
       "0         7.8               5.82  \n",
       "1         7.8               6.23  \n",
       "2         0.0               4.40  \n",
       "3         7.8               6.52  \n",
       "4         8.8               7.51  "
      ]
     },
     "execution_count": 32,
     "metadata": {},
     "output_type": "execute_result"
    }
   ],
   "source": [
    "comments.head()"
   ]
  },
  {
   "cell_type": "markdown",
   "metadata": {},
   "source": [
    "## Part 3: Preliminary Visualization and Analysis\n",
    "\n",
    "We now have a large number of categories to be able analyze to try to find what constitutes \"good\" advice on advice-giving subreddits. We use the comment score as the measure of \"good\" advice on the subreddits, and can find correlations between the comment score and the variables of interest. We can easily visualize these correlations using a heat map."
   ]
  },
  {
   "cell_type": "code",
   "execution_count": 33,
   "metadata": {},
   "outputs": [],
   "source": [
    "# import visualization libraries\n",
    "import matplotlib\n",
    "import matplotlib.pyplot as plt\n",
    "from matplotlib import figure\n",
    "import seaborn as sns"
   ]
  },
  {
   "cell_type": "code",
   "execution_count": 34,
   "metadata": {},
   "outputs": [
    {
     "data": {
      "text/plain": [
       "Text(0.5, 1.0, 'Heatmap of Comment Data')"
      ]
     },
     "execution_count": 34,
     "metadata": {},
     "output_type": "execute_result"
    },
    {
     "data": {
      "image/png": "[encoded data removed]",
      "text/plain": [
       "<Figure size 720x720 with 2 Axes>"
      ]
     },
     "metadata": {
      "needs_background": "light"
     },
     "output_type": "display_data"
    }
   ],
   "source": [
    "f, ax = plt.subplots(figsize=(10, 10))\n",
    "# heatmap of correlation between variables\n",
    "sns.heatmap(comments.drop(['distinguished', 'Unnamed: 0'], axis=1).corr(), ax=ax, annot=True, cmap=\"BuPu\")\n",
    "bottom, top = ax.get_ylim()\n",
    "ax.set_ylim(bottom + 0.5, top - 0.5)\n",
    "plt.yticks(rotation=0)\n",
    "plt.title('Heatmap of Comment Data')"
   ]
  },
  {
   "cell_type": "markdown",
   "metadata": {},
   "source": [
    "Unfortunately, it does not look like any of the correlations between any of the variables and the comment score are particularly strong. However, this is just a preliminary analysis, so we can revisit this later to try to find any stronger relationships.\n",
    "\n",
    "We can also start to visualize the distributions of some of the variables that we just discovered, to get an overall better understanding of the data."
   ]
  },
  {
   "cell_type": "code",
   "execution_count": 35,
   "metadata": {},
   "outputs": [
    {
     "data": {
      "text/plain": [
       "Text(0.5, 0, 'Upvotes')"
      ]
     },
     "execution_count": 35,
     "metadata": {},
     "output_type": "execute_result"
    },
    {
     "data": {
      "image/png": "[encoded data removed]",
      "text/plain": [
       "<Figure size 432x288 with 1 Axes>"
      ]
     },
     "metadata": {
      "needs_background": "light"
     },
     "output_type": "display_data"
    }
   ],
   "source": [
    "# histogram of upvotes\n",
    "comments['score'].plot.hist()\n",
    "plt.title(\"Comment Upvote Distribution\")\n",
    "plt.xlabel(\"Upvotes\")"
   ]
  },
  {
   "cell_type": "markdown",
   "metadata": {},
   "source": [
    "This isn't particularly useful, so we will instead graph the histogram of scores under 200."
   ]
  },
  {
   "cell_type": "code",
   "execution_count": 36,
   "metadata": {},
   "outputs": [
    {
     "data": {
      "text/plain": [
       "Text(0.5, 0, 'Score')"
      ]
     },
     "execution_count": 36,
     "metadata": {},
     "output_type": "execute_result"
    },
    {
     "data": {
      "image/png": "[encoded data removed]",
      "text/plain": [
       "<Figure size 432x288 with 1 Axes>"
      ]
     },
     "metadata": {
      "needs_background": "light"
     },
     "output_type": "display_data"
    }
   ],
   "source": [
    "# histogram of upvotes for comments with less than 200 upvotes\n",
    "comments[comments['score'] <= 200].score.plot.hist(bins=20)\n",
    "plt.title(\"Comment Score Distribution (for Score < 200)\")\n",
    "plt.xlabel(\"Score\")"
   ]
  },
  {
   "cell_type": "markdown",
   "metadata": {},
   "source": [
    "We can see that the scores are relatively normally distributed, with the vast majority of scores being close to 0."
   ]
  },
  {
   "cell_type": "code",
   "execution_count": 37,
   "metadata": {},
   "outputs": [
    {
     "data": {
      "text/plain": [
       "Text(0.5, 0, 'Polarity')"
      ]
     },
     "execution_count": 37,
     "metadata": {},
     "output_type": "execute_result"
    },
    {
     "data": {
      "image/png": "[encoded data removed]",
      "text/plain": [
       "<Figure size 432x288 with 1 Axes>"
      ]
     },
     "metadata": {
      "needs_background": "light"
     },
     "output_type": "display_data"
    }
   ],
   "source": [
    "# histogram of TextBlob polarity scores\n",
    "comments['TextBlob'].plot.hist()\n",
    "plt.title(\"TextBlob Polarity Score Distribution\")\n",
    "plt.xlabel(\"Polarity\")"
   ]
  },
  {
   "cell_type": "code",
   "execution_count": 38,
   "metadata": {},
   "outputs": [
    {
     "data": {
      "text/plain": [
       "Text(0.5, 0, 'Polarity')"
      ]
     },
     "execution_count": 38,
     "metadata": {},
     "output_type": "execute_result"
    },
    {
     "data": {
      "image/png": "[encoded data removed]",
      "text/plain": [
       "<Figure size 432x288 with 1 Axes>"
      ]
     },
     "metadata": {
      "needs_background": "light"
     },
     "output_type": "display_data"
    }
   ],
   "source": [
    "# histogram of VADER polarity scores\n",
    "comments['VADER'].plot.hist()\n",
    "plt.title(\"VADER Polarity Score Distribution\")\n",
    "plt.xlabel(\"Polarity\")"
   ]
  },
  {
   "cell_type": "markdown",
   "metadata": {},
   "source": [
    "The two sentiment analysis score histograms also give some interesting results. They both center around 0, which makes sense. However, the VADER scores seem to be bimodal (or even trimodal), with additional apexes at -0.5 and 0.5. This may be just the way that VADER tends to score sentiments, or it could be something to delve deeper into. This is something we will explore further in future phases."
   ]
  },
  {
   "cell_type": "code",
   "execution_count": 39,
   "metadata": {},
   "outputs": [
    {
     "data": {
      "text/plain": [
       "Text(0.5, 0, '# stopwords / total words')"
      ]
     },
     "execution_count": 39,
     "metadata": {},
     "output_type": "execute_result"
    },
    {
     "data": {
      "image/png": "[encoded data removed]",
      "text/plain": [
       "<Figure size 432x288 with 1 Axes>"
      ]
     },
     "metadata": {
      "needs_background": "light"
     },
     "output_type": "display_data"
    }
   ],
   "source": [
    "# histogram of stopword ratios\n",
    "comments['stopword_ratio'].plot.hist()\n",
    "plt.title(\"Distribution of Ratio of Stopwords\")\n",
    "plt.xlabel(\"# stopwords / total words\")"
   ]
  },
  {
   "cell_type": "markdown",
   "metadata": {},
   "source": [
    "The stopword ratio histogram looks relatively normally distributed around 0.4. There isn't much to analyze here, especially since the correlation between stopword ratio and comment score was relatively low."
   ]
  },
  {
   "cell_type": "code",
   "execution_count": 40,
   "metadata": {},
   "outputs": [
    {
     "data": {
      "text/plain": [
       "Text(0.5, 0, 'Word Count')"
      ]
     },
     "execution_count": 40,
     "metadata": {},
     "output_type": "execute_result"
    },
    {
     "data": {
      "image/png": "[encoded data removed]",
      "text/plain": [
       "<Figure size 432x288 with 1 Axes>"
      ]
     },
     "metadata": {
      "needs_background": "light"
     },
     "output_type": "display_data"
    }
   ],
   "source": [
    "# histogram of comment length\n",
    "comments['body_length'].plot.hist()\n",
    "plt.title(\"Distribution of Comment Word Counts\")\n",
    "plt.xlabel(\"Word Count\")"
   ]
  },
  {
   "cell_type": "code",
   "execution_count": 41,
   "metadata": {},
   "outputs": [
    {
     "data": {
      "text/plain": [
       "Text(0.5, 0, 'Word Count')"
      ]
     },
     "execution_count": 41,
     "metadata": {},
     "output_type": "execute_result"
    },
    {
     "data": {
      "image/png": "[encoded data removed]",
      "text/plain": [
       "<Figure size 432x288 with 1 Axes>"
      ]
     },
     "metadata": {
      "needs_background": "light"
     },
     "output_type": "display_data"
    }
   ],
   "source": [
    "# histogram of comment length, for comments with less than 400 words\n",
    "comments[comments['body_length']  <= 400].body_length.plot.hist()\n",
    "plt.title(\"Distribution of Comment Word Counts < 400\")\n",
    "plt.xlabel(\"Word Count\")"
   ]
  },
  {
   "cell_type": "markdown",
   "metadata": {},
   "source": [
    "The distribution of comments with word counts is an interesting graph because it is almost a perfect right-skewed distribution. We can see that most of the comments were relatively short, but some were much longer."
   ]
  },
  {
   "cell_type": "code",
   "execution_count": 42,
   "metadata": {},
   "outputs": [
    {
     "data": {
      "text/plain": [
       "Text(0.5, 0, 'SMOG Score')"
      ]
     },
     "execution_count": 42,
     "metadata": {},
     "output_type": "execute_result"
    },
    {
     "data": {
      "image/png": "[encoded data removed]",
      "text/plain": [
       "<Figure size 432x288 with 1 Axes>"
      ]
     },
     "metadata": {
      "needs_background": "light"
     },
     "output_type": "display_data"
    }
   ],
   "source": [
    "# histogram of SMOG readability scores\n",
    "comments['smog_score'].plot.hist()\n",
    "plt.title(\"Distribution of SMOG Readability Scores\")\n",
    "plt.xlabel(\"SMOG Score\")"
   ]
  },
  {
   "cell_type": "code",
   "execution_count": 43,
   "metadata": {},
   "outputs": [
    {
     "data": {
      "text/plain": [
       "Text(0.5, 0, 'Gunning-Fog Score')"
      ]
     },
     "execution_count": 43,
     "metadata": {},
     "output_type": "execute_result"
    },
    {
     "data": {
      "image/png": "[encoded data removed]",
      "text/plain": [
       "<Figure size 432x288 with 1 Axes>"
      ]
     },
     "metadata": {
      "needs_background": "light"
     },
     "output_type": "display_data"
    }
   ],
   "source": [
    "# histogram of Gunning-Fog readability scores\n",
    "comments['gunning_fog_score'].plot.hist()\n",
    "plt.title(\"Distribution of Gunning-Fog Readability Scores\")\n",
    "plt.xlabel(\"Gunning-Fog Score\")"
   ]
  },
  {
   "cell_type": "code",
   "execution_count": 44,
   "metadata": {},
   "outputs": [
    {
     "data": {
      "text/plain": [
       "Text(0.5, 0, 'Gunning-Fog Score')"
      ]
     },
     "execution_count": 44,
     "metadata": {},
     "output_type": "execute_result"
    },
    {
     "data": {
      "image/png": "[encoded data removed]",
      "text/plain": [
       "<Figure size 432x288 with 1 Axes>"
      ]
     },
     "metadata": {
      "needs_background": "light"
     },
     "output_type": "display_data"
    }
   ],
   "source": [
    "# histogram of Gunning-Fog readability scores under 50\n",
    "comments[comments['gunning_fog_score'] <= 50].gunning_fog_score.plot.hist()\n",
    "plt.title(\"Distribution of Gunning-Fog Readability Scores < 50\")\n",
    "plt.xlabel(\"Gunning-Fog Score\")"
   ]
  },
  {
   "cell_type": "markdown",
   "metadata": {},
   "source": [
    "For the readability scores, the Gunning-Fog score is somewhat right skewed, with a peak in the range of 5-10 (i.e. a reading level for U.S. grades 5-10). The SMOG score seems at first glance to be more interesting, but this is likely just the way that the Smog score is calculated. It is likely that there is a normal distribution around 8 or 9 (i.e. a reading level for U.S. grades 8-9), with a handful of comments being given a score of 0 because SMOG couldn't accurately score it. This will be something we will look into in future phases, though, just to make sure."
   ]
  },
  {
   "cell_type": "markdown",
   "metadata": {},
   "source": [
    "## Part 4: Phase II Conclusions\n",
    "\n",
    "It was a little bit disappointing to not find any strong correlations between the comment score and the other variables, but in future phases we can still find new variables to compare and also look more deeply into the relationships than a correlation test will allow. However, we did still learn a lot about our data set, which we can iterate on for future phases."
   ]
  },
  {
   "cell_type": "markdown",
   "metadata": {},
   "source": [
    "## Part 5: Categorizing Good Advice\n",
    "\n",
    "A part of the project that was suggested was to establish a baseline for 'good' and 'bad' advice. This is difficult to do by hand since there are over 28,000 comments. Thus, we decided to use a percentile score cut-off to determine good or not-good advice. Using this cut-off, we can create an output column 'good_advice' where 1 = 'good advice', and 0 = 'not good advice'. \n",
    "\n",
    "First we are going to figure out what the percentile cut-off is for each submission:"
   ]
  },
  {
   "cell_type": "code",
   "execution_count": 45,
   "metadata": {},
   "outputs": [
    {
     "data": {
      "text/html": [
       "<div>\n",
       "<style scoped>\n",
       "    .dataframe tbody tr th:only-of-type {\n",
       "        vertical-align: middle;\n",
       "    }\n",
       "\n",
       "    .dataframe tbody tr th {\n",
       "        vertical-align: top;\n",
       "    }\n",
       "\n",
       "    .dataframe thead th {\n",
       "        text-align: right;\n",
       "    }\n",
       "</style>\n",
       "<table border=\"1\" class=\"dataframe\">\n",
       "  <thead>\n",
       "    <tr style=\"text-align: right;\">\n",
       "      <th></th>\n",
       "      <th>submission id</th>\n",
       "      <th>comment id</th>\n",
       "      <th>body</th>\n",
       "      <th>score</th>\n",
       "      <th>is_submitter</th>\n",
       "      <th>cleaned_body</th>\n",
       "      <th>TextBlob</th>\n",
       "      <th>TextBlob_Category</th>\n",
       "      <th>VADER</th>\n",
       "      <th>VADER_Category</th>\n",
       "      <th>stopword_ratio</th>\n",
       "      <th>body_length</th>\n",
       "      <th>smog_score</th>\n",
       "      <th>gunning_fog_score</th>\n",
       "    </tr>\n",
       "  </thead>\n",
       "  <tbody>\n",
       "    <tr>\n",
       "      <th>0</th>\n",
       "      <td>r0mlaq</td>\n",
       "      <td>hltcpsw</td>\n",
       "      <td>Happy for you.  Side note but damn, they didn'...</td>\n",
       "      <td>243</td>\n",
       "      <td>False</td>\n",
       "      <td>happi theyr go realli awaken tri backfil</td>\n",
       "      <td>0.433333</td>\n",
       "      <td>positive</td>\n",
       "      <td>-0.4478</td>\n",
       "      <td>negative</td>\n",
       "      <td>0.414634</td>\n",
       "      <td>41</td>\n",
       "      <td>7.8</td>\n",
       "      <td>5.82</td>\n",
       "    </tr>\n",
       "    <tr>\n",
       "      <th>1</th>\n",
       "      <td>r0mlaq</td>\n",
       "      <td>hltku5i</td>\n",
       "      <td>My boss came in a few weeks ago bitching about...</td>\n",
       "      <td>190</td>\n",
       "      <td>False</td>\n",
       "      <td>week bitch expens everyth get ask get live rai...</td>\n",
       "      <td>-0.030000</td>\n",
       "      <td>neutral</td>\n",
       "      <td>-0.2023</td>\n",
       "      <td>negative</td>\n",
       "      <td>0.318182</td>\n",
       "      <td>44</td>\n",
       "      <td>7.8</td>\n",
       "      <td>6.23</td>\n",
       "    </tr>\n",
       "    <tr>\n",
       "      <th>2</th>\n",
       "      <td>r0mlaq</td>\n",
       "      <td>hlti2pf</td>\n",
       "      <td>Let us know how they respond when you give not...</td>\n",
       "      <td>53</td>\n",
       "      <td>False</td>\n",
       "      <td>notic pleas</td>\n",
       "      <td>0.000000</td>\n",
       "      <td>neutral</td>\n",
       "      <td>0.3182</td>\n",
       "      <td>positive</td>\n",
       "      <td>0.307692</td>\n",
       "      <td>13</td>\n",
       "      <td>0.0</td>\n",
       "      <td>4.40</td>\n",
       "    </tr>\n",
       "    <tr>\n",
       "      <th>3</th>\n",
       "      <td>r0mlaq</td>\n",
       "      <td>hltdpvt</td>\n",
       "      <td>Did they let you go? Either way, these people ...</td>\n",
       "      <td>32</td>\n",
       "      <td>False</td>\n",
       "      <td>peopl idiot manag think peopl employ</td>\n",
       "      <td>-0.800000</td>\n",
       "      <td>negative</td>\n",
       "      <td>0.1280</td>\n",
       "      <td>positive</td>\n",
       "      <td>0.379310</td>\n",
       "      <td>29</td>\n",
       "      <td>7.8</td>\n",
       "      <td>6.52</td>\n",
       "    </tr>\n",
       "    <tr>\n",
       "      <th>4</th>\n",
       "      <td>r0mlaq</td>\n",
       "      <td>hlu2q2d</td>\n",
       "      <td>Congratulations!!   After you have spent a few...</td>\n",
       "      <td>15</td>\n",
       "      <td>False</td>\n",
       "      <td>congratul month get comfort settl pleas abl co...</td>\n",
       "      <td>0.204040</td>\n",
       "      <td>positive</td>\n",
       "      <td>0.9594</td>\n",
       "      <td>positive</td>\n",
       "      <td>0.365079</td>\n",
       "      <td>63</td>\n",
       "      <td>8.8</td>\n",
       "      <td>7.51</td>\n",
       "    </tr>\n",
       "  </tbody>\n",
       "</table>\n",
       "</div>"
      ],
      "text/plain": [
       "  submission id comment id                                               body  \\\n",
       "0        r0mlaq    hltcpsw  Happy for you.  Side note but damn, they didn'...   \n",
       "1        r0mlaq    hltku5i  My boss came in a few weeks ago bitching about...   \n",
       "2        r0mlaq    hlti2pf  Let us know how they respond when you give not...   \n",
       "3        r0mlaq    hltdpvt  Did they let you go? Either way, these people ...   \n",
       "4        r0mlaq    hlu2q2d  Congratulations!!   After you have spent a few...   \n",
       "\n",
       "   score  is_submitter                                       cleaned_body  \\\n",
       "0    243         False           happi theyr go realli awaken tri backfil   \n",
       "1    190         False  week bitch expens everyth get ask get live rai...   \n",
       "2     53         False                                        notic pleas   \n",
       "3     32         False               peopl idiot manag think peopl employ   \n",
       "4     15         False  congratul month get comfort settl pleas abl co...   \n",
       "\n",
       "   TextBlob TextBlob_Category   VADER VADER_Category  stopword_ratio  \\\n",
       "0  0.433333          positive -0.4478       negative        0.414634   \n",
       "1 -0.030000           neutral -0.2023       negative        0.318182   \n",
       "2  0.000000           neutral  0.3182       positive        0.307692   \n",
       "3 -0.800000          negative  0.1280       positive        0.379310   \n",
       "4  0.204040          positive  0.9594       positive        0.365079   \n",
       "\n",
       "   body_length  smog_score  gunning_fog_score  \n",
       "0           41         7.8               5.82  \n",
       "1           44         7.8               6.23  \n",
       "2           13         0.0               4.40  \n",
       "3           29         7.8               6.52  \n",
       "4           63         8.8               7.51  "
      ]
     },
     "execution_count": 45,
     "metadata": {},
     "output_type": "execute_result"
    }
   ],
   "source": [
    "# viewing head\n",
    "comments.head()\n",
    "# dropping columns that aren't useful\n",
    "comments_clean = comments.copy()\n",
    "comments_clean = comments_clean.drop(['Unnamed: 0', 'distinguished'], axis = 1)\n",
    "comments_clean.head()"
   ]
  },
  {
   "cell_type": "markdown",
   "metadata": {},
   "source": [
    "We decided that we would group each comment by its original submission post. Then the top 25% of comments with the highest score would be Good Advice, and the rest would be 0:"
   ]
  },
  {
   "cell_type": "code",
   "execution_count": 46,
   "metadata": {},
   "outputs": [],
   "source": [
    "# group by submission ids:\n",
    "by_submission = comments_clean.groupby('submission id') #.score.quantile([0.75])\n",
    "dict_good_advice = dict()\n",
    "for name, group in by_submission:\n",
    "    quantile_75 = group.score.quantile([0.75][0])\n",
    "    # storing each original posts 75th score percentile in a dict\n",
    "    dict_good_advice[name] = quantile_75"
   ]
  },
  {
   "cell_type": "code",
   "execution_count": 47,
   "metadata": {},
   "outputs": [
    {
     "data": {
      "text/html": [
       "<div>\n",
       "<style scoped>\n",
       "    .dataframe tbody tr th:only-of-type {\n",
       "        vertical-align: middle;\n",
       "    }\n",
       "\n",
       "    .dataframe tbody tr th {\n",
       "        vertical-align: top;\n",
       "    }\n",
       "\n",
       "    .dataframe thead th {\n",
       "        text-align: right;\n",
       "    }\n",
       "</style>\n",
       "<table border=\"1\" class=\"dataframe\">\n",
       "  <thead>\n",
       "    <tr style=\"text-align: right;\">\n",
       "      <th></th>\n",
       "      <th>CutOff</th>\n",
       "    </tr>\n",
       "  </thead>\n",
       "  <tbody>\n",
       "    <tr>\n",
       "      <th>n9waco</th>\n",
       "      <td>12.00</td>\n",
       "    </tr>\n",
       "    <tr>\n",
       "      <th>n9yqap</th>\n",
       "      <td>22.75</td>\n",
       "    </tr>\n",
       "    <tr>\n",
       "      <th>n9zbko</th>\n",
       "      <td>9.00</td>\n",
       "    </tr>\n",
       "    <tr>\n",
       "      <th>nake8t</th>\n",
       "      <td>8.00</td>\n",
       "    </tr>\n",
       "    <tr>\n",
       "      <th>nb8sa0</th>\n",
       "      <td>4.00</td>\n",
       "    </tr>\n",
       "  </tbody>\n",
       "</table>\n",
       "</div>"
      ],
      "text/plain": [
       "        CutOff\n",
       "n9waco   12.00\n",
       "n9yqap   22.75\n",
       "n9zbko    9.00\n",
       "nake8t    8.00\n",
       "nb8sa0    4.00"
      ]
     },
     "execution_count": 47,
     "metadata": {},
     "output_type": "execute_result"
    }
   ],
   "source": [
    "# converting our dictionary into a Dataframe for easier comparing\n",
    "advice_sep_df = pd.DataFrame.from_dict(dict_good_advice, orient='index', columns=['CutOff'])\n",
    "advice_sep_df.head()"
   ]
  },
  {
   "cell_type": "markdown",
   "metadata": {},
   "source": [
    "Here we have the 75 percentile cutoff for each original submission id. We can now use this to split our comments into whether they are good or not good advice."
   ]
  },
  {
   "cell_type": "code",
   "execution_count": 48,
   "metadata": {},
   "outputs": [],
   "source": [
    "# creating a list of whether each comment (row) is good or bad advice\n",
    "is_good_advice = []\n",
    "# checking each rows score to the 75th score percentile for that post total comments\n",
    "for i in range(comments_clean.shape[0]):\n",
    "    original_submission_id = comments_clean.iloc[i, :]['submission id']\n",
    "    if comments_clean.iloc[i, :]['score'] > int(advice_sep_df.loc[[original_submission_id], 'CutOff']):\n",
    "        is_good_advice.append(1)\n",
    "    else:\n",
    "        is_good_advice.append(0)"
   ]
  },
  {
   "cell_type": "code",
   "execution_count": 49,
   "metadata": {},
   "outputs": [
    {
     "data": {
      "text/html": [
       "<div>\n",
       "<style scoped>\n",
       "    .dataframe tbody tr th:only-of-type {\n",
       "        vertical-align: middle;\n",
       "    }\n",
       "\n",
       "    .dataframe tbody tr th {\n",
       "        vertical-align: top;\n",
       "    }\n",
       "\n",
       "    .dataframe thead th {\n",
       "        text-align: right;\n",
       "    }\n",
       "</style>\n",
       "<table border=\"1\" class=\"dataframe\">\n",
       "  <thead>\n",
       "    <tr style=\"text-align: right;\">\n",
       "      <th></th>\n",
       "      <th>submission id</th>\n",
       "      <th>comment id</th>\n",
       "      <th>body</th>\n",
       "      <th>score</th>\n",
       "      <th>is_submitter</th>\n",
       "      <th>cleaned_body</th>\n",
       "      <th>TextBlob</th>\n",
       "      <th>TextBlob_Category</th>\n",
       "      <th>VADER</th>\n",
       "      <th>VADER_Category</th>\n",
       "      <th>stopword_ratio</th>\n",
       "      <th>body_length</th>\n",
       "      <th>smog_score</th>\n",
       "      <th>gunning_fog_score</th>\n",
       "      <th>good_advice</th>\n",
       "    </tr>\n",
       "  </thead>\n",
       "  <tbody>\n",
       "    <tr>\n",
       "      <th>0</th>\n",
       "      <td>r0mlaq</td>\n",
       "      <td>hltcpsw</td>\n",
       "      <td>Happy for you.  Side note but damn, they didn'...</td>\n",
       "      <td>243</td>\n",
       "      <td>False</td>\n",
       "      <td>happi theyr go realli awaken tri backfil</td>\n",
       "      <td>0.433333</td>\n",
       "      <td>positive</td>\n",
       "      <td>-0.4478</td>\n",
       "      <td>negative</td>\n",
       "      <td>0.414634</td>\n",
       "      <td>41</td>\n",
       "      <td>7.8</td>\n",
       "      <td>5.82</td>\n",
       "      <td>1</td>\n",
       "    </tr>\n",
       "    <tr>\n",
       "      <th>1</th>\n",
       "      <td>r0mlaq</td>\n",
       "      <td>hltku5i</td>\n",
       "      <td>My boss came in a few weeks ago bitching about...</td>\n",
       "      <td>190</td>\n",
       "      <td>False</td>\n",
       "      <td>week bitch expens everyth get ask get live rai...</td>\n",
       "      <td>-0.030000</td>\n",
       "      <td>neutral</td>\n",
       "      <td>-0.2023</td>\n",
       "      <td>negative</td>\n",
       "      <td>0.318182</td>\n",
       "      <td>44</td>\n",
       "      <td>7.8</td>\n",
       "      <td>6.23</td>\n",
       "      <td>1</td>\n",
       "    </tr>\n",
       "    <tr>\n",
       "      <th>2</th>\n",
       "      <td>r0mlaq</td>\n",
       "      <td>hlti2pf</td>\n",
       "      <td>Let us know how they respond when you give not...</td>\n",
       "      <td>53</td>\n",
       "      <td>False</td>\n",
       "      <td>notic pleas</td>\n",
       "      <td>0.000000</td>\n",
       "      <td>neutral</td>\n",
       "      <td>0.3182</td>\n",
       "      <td>positive</td>\n",
       "      <td>0.307692</td>\n",
       "      <td>13</td>\n",
       "      <td>0.0</td>\n",
       "      <td>4.40</td>\n",
       "      <td>1</td>\n",
       "    </tr>\n",
       "    <tr>\n",
       "      <th>3</th>\n",
       "      <td>r0mlaq</td>\n",
       "      <td>hltdpvt</td>\n",
       "      <td>Did they let you go? Either way, these people ...</td>\n",
       "      <td>32</td>\n",
       "      <td>False</td>\n",
       "      <td>peopl idiot manag think peopl employ</td>\n",
       "      <td>-0.800000</td>\n",
       "      <td>negative</td>\n",
       "      <td>0.1280</td>\n",
       "      <td>positive</td>\n",
       "      <td>0.379310</td>\n",
       "      <td>29</td>\n",
       "      <td>7.8</td>\n",
       "      <td>6.52</td>\n",
       "      <td>1</td>\n",
       "    </tr>\n",
       "    <tr>\n",
       "      <th>4</th>\n",
       "      <td>r0mlaq</td>\n",
       "      <td>hlu2q2d</td>\n",
       "      <td>Congratulations!!   After you have spent a few...</td>\n",
       "      <td>15</td>\n",
       "      <td>False</td>\n",
       "      <td>congratul month get comfort settl pleas abl co...</td>\n",
       "      <td>0.204040</td>\n",
       "      <td>positive</td>\n",
       "      <td>0.9594</td>\n",
       "      <td>positive</td>\n",
       "      <td>0.365079</td>\n",
       "      <td>63</td>\n",
       "      <td>8.8</td>\n",
       "      <td>7.51</td>\n",
       "      <td>1</td>\n",
       "    </tr>\n",
       "    <tr>\n",
       "      <th>5</th>\n",
       "      <td>r0mlaq</td>\n",
       "      <td>hltila8</td>\n",
       "      <td>That’s fantastic! Onward and upward my friend!</td>\n",
       "      <td>11</td>\n",
       "      <td>False</td>\n",
       "      <td>that fantast</td>\n",
       "      <td>0.625000</td>\n",
       "      <td>positive</td>\n",
       "      <td>0.8118</td>\n",
       "      <td>positive</td>\n",
       "      <td>0.272727</td>\n",
       "      <td>11</td>\n",
       "      <td>0.0</td>\n",
       "      <td>8.51</td>\n",
       "      <td>1</td>\n",
       "    </tr>\n",
       "    <tr>\n",
       "      <th>6</th>\n",
       "      <td>r0mlaq</td>\n",
       "      <td>hlto0j4</td>\n",
       "      <td>This is the kind of update I like to see!   Co...</td>\n",
       "      <td>9</td>\n",
       "      <td>False</td>\n",
       "      <td>updat congrat mani compani mistak victori empl...</td>\n",
       "      <td>0.333333</td>\n",
       "      <td>positive</td>\n",
       "      <td>0.7574</td>\n",
       "      <td>positive</td>\n",
       "      <td>0.372093</td>\n",
       "      <td>43</td>\n",
       "      <td>0.0</td>\n",
       "      <td>10.76</td>\n",
       "      <td>1</td>\n",
       "    </tr>\n",
       "    <tr>\n",
       "      <th>7</th>\n",
       "      <td>r0mlaq</td>\n",
       "      <td>hluk2yz</td>\n",
       "      <td>&gt; HR setup a call with me and my manager the n...</td>\n",
       "      <td>10</td>\n",
       "      <td>False</td>\n",
       "      <td>manag expect essenti middl confid compens bene...</td>\n",
       "      <td>0.133333</td>\n",
       "      <td>positive</td>\n",
       "      <td>0.8957</td>\n",
       "      <td>positive</td>\n",
       "      <td>0.397260</td>\n",
       "      <td>73</td>\n",
       "      <td>9.6</td>\n",
       "      <td>8.68</td>\n",
       "      <td>1</td>\n",
       "    </tr>\n",
       "    <tr>\n",
       "      <th>8</th>\n",
       "      <td>r0mlaq</td>\n",
       "      <td>hltmlk8</td>\n",
       "      <td>Good bye to bad rubbish!  The company I work f...</td>\n",
       "      <td>8</td>\n",
       "      <td>False</td>\n",
       "      <td>compani think salari competit peopl quit inter...</td>\n",
       "      <td>0.158673</td>\n",
       "      <td>positive</td>\n",
       "      <td>-0.3382</td>\n",
       "      <td>negative</td>\n",
       "      <td>0.312500</td>\n",
       "      <td>48</td>\n",
       "      <td>8.1</td>\n",
       "      <td>5.15</td>\n",
       "      <td>0</td>\n",
       "    </tr>\n",
       "    <tr>\n",
       "      <th>9</th>\n",
       "      <td>r0mlaq</td>\n",
       "      <td>hlth3gb</td>\n",
       "      <td>Congratulations!!</td>\n",
       "      <td>8</td>\n",
       "      <td>False</td>\n",
       "      <td>congratul</td>\n",
       "      <td>0.000000</td>\n",
       "      <td>neutral</td>\n",
       "      <td>0.6688</td>\n",
       "      <td>positive</td>\n",
       "      <td>0.000000</td>\n",
       "      <td>3</td>\n",
       "      <td>0.0</td>\n",
       "      <td>40.40</td>\n",
       "      <td>0</td>\n",
       "    </tr>\n",
       "  </tbody>\n",
       "</table>\n",
       "</div>"
      ],
      "text/plain": [
       "  submission id comment id                                               body  \\\n",
       "0        r0mlaq    hltcpsw  Happy for you.  Side note but damn, they didn'...   \n",
       "1        r0mlaq    hltku5i  My boss came in a few weeks ago bitching about...   \n",
       "2        r0mlaq    hlti2pf  Let us know how they respond when you give not...   \n",
       "3        r0mlaq    hltdpvt  Did they let you go? Either way, these people ...   \n",
       "4        r0mlaq    hlu2q2d  Congratulations!!   After you have spent a few...   \n",
       "5        r0mlaq    hltila8     That’s fantastic! Onward and upward my friend!   \n",
       "6        r0mlaq    hlto0j4  This is the kind of update I like to see!   Co...   \n",
       "7        r0mlaq    hluk2yz  > HR setup a call with me and my manager the n...   \n",
       "8        r0mlaq    hltmlk8  Good bye to bad rubbish!  The company I work f...   \n",
       "9        r0mlaq    hlth3gb                                  Congratulations!!   \n",
       "\n",
       "   score  is_submitter                                       cleaned_body  \\\n",
       "0    243         False           happi theyr go realli awaken tri backfil   \n",
       "1    190         False  week bitch expens everyth get ask get live rai...   \n",
       "2     53         False                                        notic pleas   \n",
       "3     32         False               peopl idiot manag think peopl employ   \n",
       "4     15         False  congratul month get comfort settl pleas abl co...   \n",
       "5     11         False                                       that fantast   \n",
       "6      9         False  updat congrat mani compani mistak victori empl...   \n",
       "7     10         False  manag expect essenti middl confid compens bene...   \n",
       "8      8         False  compani think salari competit peopl quit inter...   \n",
       "9      8         False                                          congratul   \n",
       "\n",
       "   TextBlob TextBlob_Category   VADER VADER_Category  stopword_ratio  \\\n",
       "0  0.433333          positive -0.4478       negative        0.414634   \n",
       "1 -0.030000           neutral -0.2023       negative        0.318182   \n",
       "2  0.000000           neutral  0.3182       positive        0.307692   \n",
       "3 -0.800000          negative  0.1280       positive        0.379310   \n",
       "4  0.204040          positive  0.9594       positive        0.365079   \n",
       "5  0.625000          positive  0.8118       positive        0.272727   \n",
       "6  0.333333          positive  0.7574       positive        0.372093   \n",
       "7  0.133333          positive  0.8957       positive        0.397260   \n",
       "8  0.158673          positive -0.3382       negative        0.312500   \n",
       "9  0.000000           neutral  0.6688       positive        0.000000   \n",
       "\n",
       "   body_length  smog_score  gunning_fog_score  good_advice  \n",
       "0           41         7.8               5.82            1  \n",
       "1           44         7.8               6.23            1  \n",
       "2           13         0.0               4.40            1  \n",
       "3           29         7.8               6.52            1  \n",
       "4           63         8.8               7.51            1  \n",
       "5           11         0.0               8.51            1  \n",
       "6           43         0.0              10.76            1  \n",
       "7           73         9.6               8.68            1  \n",
       "8           48         8.1               5.15            0  \n",
       "9            3         0.0              40.40            0  "
      ]
     },
     "execution_count": 49,
     "metadata": {},
     "output_type": "execute_result"
    }
   ],
   "source": [
    "# adding it as a boolean column to comments_clean\n",
    "comments_clean['good_advice'] = is_good_advice\n",
    "comments_clean.head(10)"
   ]
  },
  {
   "cell_type": "markdown",
   "metadata": {},
   "source": [
    "In the code snippets above we converted the raw 'scores' for each comment into whether is it Good Advice or not. We determined this by categorizing good advice posts that have at least a score above the 75th percentile of all comments for a given post. This means that for each submission we collected, only the top 25% of comments would be 'good advice'. This allows the actual value to scale for each post instead of using a 'cut off' that is the same for all posts. \n",
    "\n",
    "It should be admitted that this approach to splitting advice quality is not the most robust. In reality, a post with high upvote scores don't necessarily mean that it is relevant and good advice. A post with many upvotes could be a funny/meme post that is irrelevant to the original question. There is also no professional way to determine how 'good' advice is. That is a limitation of our study. In future studies there could be a human validation aspect to splitting advice."
   ]
  },
  {
   "cell_type": "markdown",
   "metadata": {},
   "source": [
    "## Part 6: Data Pre-Processing before Machine Learning\n",
    "\n",
    "Here we will make sure our data is currently vectorized and all our columns are usable before proceeding to train and testing our models. The models we will use are Naive Bayes (predicting metrics, and bag of words) and Logistic Regression. We are choosing these two ML models since time limitations prevent us from hyper-parameter tuning more complex models like SVM/Neural Network. Naive Bayes also works well with large text data, which would be good for our study. Logistic Regression can help us discern what metrics are more contributing to advice prediction than others."
   ]
  },
  {
   "cell_type": "markdown",
   "metadata": {},
   "source": [
    "First let's make a copy of our dataframe with only the columns we will be using in our model:"
   ]
  },
  {
   "cell_type": "code",
   "execution_count": 51,
   "metadata": {},
   "outputs": [
    {
     "data": {
      "text/html": [
       "<div>\n",
       "<style scoped>\n",
       "    .dataframe tbody tr th:only-of-type {\n",
       "        vertical-align: middle;\n",
       "    }\n",
       "\n",
       "    .dataframe tbody tr th {\n",
       "        vertical-align: top;\n",
       "    }\n",
       "\n",
       "    .dataframe thead th {\n",
       "        text-align: right;\n",
       "    }\n",
       "</style>\n",
       "<table border=\"1\" class=\"dataframe\">\n",
       "  <thead>\n",
       "    <tr style=\"text-align: right;\">\n",
       "      <th></th>\n",
       "      <th>body</th>\n",
       "      <th>TextBlob</th>\n",
       "      <th>VADER</th>\n",
       "      <th>stopword_ratio</th>\n",
       "      <th>body_length</th>\n",
       "      <th>smog_score</th>\n",
       "      <th>gunning_fog_score</th>\n",
       "      <th>good_advice</th>\n",
       "    </tr>\n",
       "  </thead>\n",
       "  <tbody>\n",
       "    <tr>\n",
       "      <th>0</th>\n",
       "      <td>Happy for you.  Side note but damn, they didn'...</td>\n",
       "      <td>0.433333</td>\n",
       "      <td>-0.4478</td>\n",
       "      <td>0.414634</td>\n",
       "      <td>41</td>\n",
       "      <td>7.8</td>\n",
       "      <td>5.82</td>\n",
       "      <td>1</td>\n",
       "    </tr>\n",
       "    <tr>\n",
       "      <th>1</th>\n",
       "      <td>My boss came in a few weeks ago bitching about...</td>\n",
       "      <td>-0.030000</td>\n",
       "      <td>-0.2023</td>\n",
       "      <td>0.318182</td>\n",
       "      <td>44</td>\n",
       "      <td>7.8</td>\n",
       "      <td>6.23</td>\n",
       "      <td>1</td>\n",
       "    </tr>\n",
       "    <tr>\n",
       "      <th>2</th>\n",
       "      <td>Let us know how they respond when you give not...</td>\n",
       "      <td>0.000000</td>\n",
       "      <td>0.3182</td>\n",
       "      <td>0.307692</td>\n",
       "      <td>13</td>\n",
       "      <td>0.0</td>\n",
       "      <td>4.40</td>\n",
       "      <td>1</td>\n",
       "    </tr>\n",
       "    <tr>\n",
       "      <th>3</th>\n",
       "      <td>Did they let you go? Either way, these people ...</td>\n",
       "      <td>-0.800000</td>\n",
       "      <td>0.1280</td>\n",
       "      <td>0.379310</td>\n",
       "      <td>29</td>\n",
       "      <td>7.8</td>\n",
       "      <td>6.52</td>\n",
       "      <td>1</td>\n",
       "    </tr>\n",
       "    <tr>\n",
       "      <th>4</th>\n",
       "      <td>Congratulations!!   After you have spent a few...</td>\n",
       "      <td>0.204040</td>\n",
       "      <td>0.9594</td>\n",
       "      <td>0.365079</td>\n",
       "      <td>63</td>\n",
       "      <td>8.8</td>\n",
       "      <td>7.51</td>\n",
       "      <td>1</td>\n",
       "    </tr>\n",
       "    <tr>\n",
       "      <th>5</th>\n",
       "      <td>That’s fantastic! Onward and upward my friend!</td>\n",
       "      <td>0.625000</td>\n",
       "      <td>0.8118</td>\n",
       "      <td>0.272727</td>\n",
       "      <td>11</td>\n",
       "      <td>0.0</td>\n",
       "      <td>8.51</td>\n",
       "      <td>1</td>\n",
       "    </tr>\n",
       "    <tr>\n",
       "      <th>6</th>\n",
       "      <td>This is the kind of update I like to see!   Co...</td>\n",
       "      <td>0.333333</td>\n",
       "      <td>0.7574</td>\n",
       "      <td>0.372093</td>\n",
       "      <td>43</td>\n",
       "      <td>0.0</td>\n",
       "      <td>10.76</td>\n",
       "      <td>1</td>\n",
       "    </tr>\n",
       "    <tr>\n",
       "      <th>7</th>\n",
       "      <td>&gt; HR setup a call with me and my manager the n...</td>\n",
       "      <td>0.133333</td>\n",
       "      <td>0.8957</td>\n",
       "      <td>0.397260</td>\n",
       "      <td>73</td>\n",
       "      <td>9.6</td>\n",
       "      <td>8.68</td>\n",
       "      <td>1</td>\n",
       "    </tr>\n",
       "    <tr>\n",
       "      <th>8</th>\n",
       "      <td>Good bye to bad rubbish!  The company I work f...</td>\n",
       "      <td>0.158673</td>\n",
       "      <td>-0.3382</td>\n",
       "      <td>0.312500</td>\n",
       "      <td>48</td>\n",
       "      <td>8.1</td>\n",
       "      <td>5.15</td>\n",
       "      <td>0</td>\n",
       "    </tr>\n",
       "    <tr>\n",
       "      <th>9</th>\n",
       "      <td>Congratulations!!</td>\n",
       "      <td>0.000000</td>\n",
       "      <td>0.6688</td>\n",
       "      <td>0.000000</td>\n",
       "      <td>3</td>\n",
       "      <td>0.0</td>\n",
       "      <td>40.40</td>\n",
       "      <td>0</td>\n",
       "    </tr>\n",
       "  </tbody>\n",
       "</table>\n",
       "</div>"
      ],
      "text/plain": [
       "                                                body  TextBlob   VADER  \\\n",
       "0  Happy for you.  Side note but damn, they didn'...  0.433333 -0.4478   \n",
       "1  My boss came in a few weeks ago bitching about... -0.030000 -0.2023   \n",
       "2  Let us know how they respond when you give not...  0.000000  0.3182   \n",
       "3  Did they let you go? Either way, these people ... -0.800000  0.1280   \n",
       "4  Congratulations!!   After you have spent a few...  0.204040  0.9594   \n",
       "5     That’s fantastic! Onward and upward my friend!  0.625000  0.8118   \n",
       "6  This is the kind of update I like to see!   Co...  0.333333  0.7574   \n",
       "7  > HR setup a call with me and my manager the n...  0.133333  0.8957   \n",
       "8  Good bye to bad rubbish!  The company I work f...  0.158673 -0.3382   \n",
       "9                                  Congratulations!!  0.000000  0.6688   \n",
       "\n",
       "   stopword_ratio  body_length  smog_score  gunning_fog_score  good_advice  \n",
       "0        0.414634           41         7.8               5.82            1  \n",
       "1        0.318182           44         7.8               6.23            1  \n",
       "2        0.307692           13         0.0               4.40            1  \n",
       "3        0.379310           29         7.8               6.52            1  \n",
       "4        0.365079           63         8.8               7.51            1  \n",
       "5        0.272727           11         0.0               8.51            1  \n",
       "6        0.372093           43         0.0              10.76            1  \n",
       "7        0.397260           73         9.6               8.68            1  \n",
       "8        0.312500           48         8.1               5.15            0  \n",
       "9        0.000000            3         0.0              40.40            0  "
      ]
     },
     "execution_count": 51,
     "metadata": {},
     "output_type": "execute_result"
    }
   ],
   "source": [
    "ml_df = comments_clean.copy()\n",
    "ml_df = ml_df[['body', 'TextBlob', 'VADER', 'stopword_ratio',\n",
    "              'body_length', 'smog_score', 'gunning_fog_score', 'good_advice']]\n",
    "ml_df.head(10)"
   ]
  },
  {
   "cell_type": "markdown",
   "metadata": {},
   "source": [
    "We are including the cleaned text, the sentiment score, and other metrics, along with our category column 'good_advice'. Before we proceed we will pre-process the cleaned text to make sure it matches our LDA processing and uses lemmatizer instead of stemmer:"
   ]
  },
  {
   "cell_type": "code",
   "execution_count": 52,
   "metadata": {},
   "outputs": [
    {
     "name": "stdout",
     "output_type": "stream",
     "text": [
      "Uncleaned First Element:  Happy for you.  Side note but damn, they didn't even make an attempt lol? They're going to be in for a really rude awakening when they try to hire your backfill in this job market. \n",
      "\n",
      "More cleaned First Element:  happy for you  side note but damn they didnt even make an attempt lol theyre going to be in for a really rude awakening when they try to hire your backfill in this job market\n"
     ]
    }
   ],
   "source": [
    "# saving body text as a series to easily clean\n",
    "data = ml_df.copy()\n",
    "data_clean = data.body\n",
    "# closer look at first element\n",
    "print(\"Uncleaned First Element: \",data_clean[0], \"\\n\")\n",
    "\n",
    "# converting all text to lowercase\n",
    "data_clean = data_clean.str.lower()\n",
    "# replace all non-alphanumeric symbols:\n",
    "data_clean = data_clean.str.replace(r\"[^\\w\\s]\", \"\", regex=True)\n",
    "# removing new line symbols\n",
    "data_clean = data_clean.str.replace(\"\\\\n\", \" \", regex=True)\n",
    "print(\"More cleaned First Element: \", data_clean[0])"
   ]
  },
  {
   "cell_type": "code",
   "execution_count": 53,
   "metadata": {},
   "outputs": [],
   "source": [
    "# removing stopwords\n",
    "stop_words = stopwords.words('english')\n",
    "# also adding variations of existing stopwords, but without ' (i.e: i've = ive)\n",
    "no_punct = [w.replace(\"'\", \"\") for w in stop_words if \"'\" in w]\n",
    "stop_words.extend(no_punct)\n",
    "new_stop = ['im', 'ive']\n",
    "stop_words.extend(new_stop)\n",
    "# using .apply to apply our function to all rows:\n",
    "data_clean = data_clean.apply(lambda x: ' '.join([word for word in x.split() if word not in (stop_words)]))"
   ]
  },
  {
   "cell_type": "code",
   "execution_count": 54,
   "metadata": {},
   "outputs": [],
   "source": [
    "from nltk.stem import WordNetLemmatizer\n",
    "lemmatizer = WordNetLemmatizer()\n",
    "# we can include it while filtering out stop words\n",
    "data_clean = data_clean.apply(lambda x: ' '.join([lemmatizer.lemmatize(word) for word in x.split()]))"
   ]
  },
  {
   "cell_type": "code",
   "execution_count": 55,
   "metadata": {},
   "outputs": [
    {
     "data": {
      "text/html": [
       "<div>\n",
       "<style scoped>\n",
       "    .dataframe tbody tr th:only-of-type {\n",
       "        vertical-align: middle;\n",
       "    }\n",
       "\n",
       "    .dataframe tbody tr th {\n",
       "        vertical-align: top;\n",
       "    }\n",
       "\n",
       "    .dataframe thead th {\n",
       "        text-align: right;\n",
       "    }\n",
       "</style>\n",
       "<table border=\"1\" class=\"dataframe\">\n",
       "  <thead>\n",
       "    <tr style=\"text-align: right;\">\n",
       "      <th></th>\n",
       "      <th>body</th>\n",
       "      <th>TextBlob</th>\n",
       "      <th>VADER</th>\n",
       "      <th>stopword_ratio</th>\n",
       "      <th>body_length</th>\n",
       "      <th>smog_score</th>\n",
       "      <th>gunning_fog_score</th>\n",
       "      <th>good_advice</th>\n",
       "      <th>cleaned_text</th>\n",
       "    </tr>\n",
       "  </thead>\n",
       "  <tbody>\n",
       "    <tr>\n",
       "      <th>0</th>\n",
       "      <td>Happy for you.  Side note but damn, they didn'...</td>\n",
       "      <td>0.433333</td>\n",
       "      <td>-0.4478</td>\n",
       "      <td>0.414634</td>\n",
       "      <td>41</td>\n",
       "      <td>7.8</td>\n",
       "      <td>5.82</td>\n",
       "      <td>1</td>\n",
       "      <td>happy side note damn even make attempt lol the...</td>\n",
       "    </tr>\n",
       "    <tr>\n",
       "      <th>1</th>\n",
       "      <td>My boss came in a few weeks ago bitching about...</td>\n",
       "      <td>-0.030000</td>\n",
       "      <td>-0.2023</td>\n",
       "      <td>0.318182</td>\n",
       "      <td>44</td>\n",
       "      <td>7.8</td>\n",
       "      <td>6.23</td>\n",
       "      <td>1</td>\n",
       "      <td>bos came week ago bitching expensive everythin...</td>\n",
       "    </tr>\n",
       "    <tr>\n",
       "      <th>2</th>\n",
       "      <td>Let us know how they respond when you give not...</td>\n",
       "      <td>0.000000</td>\n",
       "      <td>0.3182</td>\n",
       "      <td>0.307692</td>\n",
       "      <td>13</td>\n",
       "      <td>0.0</td>\n",
       "      <td>4.40</td>\n",
       "      <td>1</td>\n",
       "      <td>let u know respond give notice please</td>\n",
       "    </tr>\n",
       "    <tr>\n",
       "      <th>3</th>\n",
       "      <td>Did they let you go? Either way, these people ...</td>\n",
       "      <td>-0.800000</td>\n",
       "      <td>0.1280</td>\n",
       "      <td>0.379310</td>\n",
       "      <td>29</td>\n",
       "      <td>7.8</td>\n",
       "      <td>6.52</td>\n",
       "      <td>1</td>\n",
       "      <td>let go either way people idiot management need...</td>\n",
       "    </tr>\n",
       "    <tr>\n",
       "      <th>4</th>\n",
       "      <td>Congratulations!!   After you have spent a few...</td>\n",
       "      <td>0.204040</td>\n",
       "      <td>0.9594</td>\n",
       "      <td>0.365079</td>\n",
       "      <td>63</td>\n",
       "      <td>8.8</td>\n",
       "      <td>7.51</td>\n",
       "      <td>1</td>\n",
       "      <td>congratulation spent month getting comfortable...</td>\n",
       "    </tr>\n",
       "  </tbody>\n",
       "</table>\n",
       "</div>"
      ],
      "text/plain": [
       "                                                body  TextBlob   VADER  \\\n",
       "0  Happy for you.  Side note but damn, they didn'...  0.433333 -0.4478   \n",
       "1  My boss came in a few weeks ago bitching about... -0.030000 -0.2023   \n",
       "2  Let us know how they respond when you give not...  0.000000  0.3182   \n",
       "3  Did they let you go? Either way, these people ... -0.800000  0.1280   \n",
       "4  Congratulations!!   After you have spent a few...  0.204040  0.9594   \n",
       "\n",
       "   stopword_ratio  body_length  smog_score  gunning_fog_score  good_advice  \\\n",
       "0        0.414634           41         7.8               5.82            1   \n",
       "1        0.318182           44         7.8               6.23            1   \n",
       "2        0.307692           13         0.0               4.40            1   \n",
       "3        0.379310           29         7.8               6.52            1   \n",
       "4        0.365079           63         8.8               7.51            1   \n",
       "\n",
       "                                        cleaned_text  \n",
       "0  happy side note damn even make attempt lol the...  \n",
       "1  bos came week ago bitching expensive everythin...  \n",
       "2              let u know respond give notice please  \n",
       "3  let go either way people idiot management need...  \n",
       "4  congratulation spent month getting comfortable...  "
      ]
     },
     "execution_count": 55,
     "metadata": {},
     "output_type": "execute_result"
    }
   ],
   "source": [
    "# adding it as a cleaned and lemmatized column to ml_df\n",
    "ml_df['cleaned_text'] = data_clean\n",
    "ml_df.head()"
   ]
  },
  {
   "cell_type": "markdown",
   "metadata": {},
   "source": [
    "Now that we have cleaned and lemmatized our text, we can proceed to vectorize it, using count vectorizer from sklearn. This will allow us to use it in our machine learning models:"
   ]
  },
  {
   "cell_type": "code",
   "execution_count": 56,
   "metadata": {},
   "outputs": [
    {
     "name": "stdout",
     "output_type": "stream",
     "text": [
      "Shape: (28219, 23980)\n"
     ]
    }
   ],
   "source": [
    "from sklearn.feature_extraction.text import CountVectorizer\n",
    "# initializing\n",
    "vectorizer = CountVectorizer()\n",
    "# fitting to data\n",
    "vectorizer.fit(data_clean)\n",
    "# transforming our data:\n",
    "counts = vectorizer.transform(data_clean)\n",
    "print(\"Shape:\", counts.shape)"
   ]
  },
  {
   "cell_type": "markdown",
   "metadata": {},
   "source": [
    "We can see that across our 28K comments, our vectorized identified ~24,000 unique tokens. This is currently a sparse matrix, but we can convert it to a Dataframe, and attach our other metrics (VADER/TextBlob/stopword_ratio etc...):"
   ]
  },
  {
   "cell_type": "code",
   "execution_count": 57,
   "metadata": {},
   "outputs": [
    {
     "name": "stdout",
     "output_type": "stream",
     "text": [
      "Shape: (28219, 23980)\n"
     ]
    },
    {
     "data": {
      "text/html": [
       "<div>\n",
       "<style scoped>\n",
       "    .dataframe tbody tr th:only-of-type {\n",
       "        vertical-align: middle;\n",
       "    }\n",
       "\n",
       "    .dataframe tbody tr th {\n",
       "        vertical-align: top;\n",
       "    }\n",
       "\n",
       "    .dataframe thead th {\n",
       "        text-align: right;\n",
       "    }\n",
       "</style>\n",
       "<table border=\"1\" class=\"dataframe\">\n",
       "  <thead>\n",
       "    <tr style=\"text-align: right;\">\n",
       "      <th></th>\n",
       "      <th>00</th>\n",
       "      <th>000</th>\n",
       "      <th>0000</th>\n",
       "      <th>001</th>\n",
       "      <th>002</th>\n",
       "      <th>007</th>\n",
       "      <th>01</th>\n",
       "      <th>02</th>\n",
       "      <th>020</th>\n",
       "      <th>025mm</th>\n",
       "      <th>...</th>\n",
       "      <th>zoomphone</th>\n",
       "      <th>zoomteams</th>\n",
       "      <th>zoomvideo</th>\n",
       "      <th>zoomvirtual</th>\n",
       "      <th>zooologist</th>\n",
       "      <th>zuckerberg</th>\n",
       "      <th>zzz</th>\n",
       "      <th>în</th>\n",
       "      <th>übermensch</th>\n",
       "      <th>那個</th>\n",
       "    </tr>\n",
       "  </thead>\n",
       "  <tbody>\n",
       "    <tr>\n",
       "      <th>0</th>\n",
       "      <td>0</td>\n",
       "      <td>0</td>\n",
       "      <td>0</td>\n",
       "      <td>0</td>\n",
       "      <td>0</td>\n",
       "      <td>0</td>\n",
       "      <td>0</td>\n",
       "      <td>0</td>\n",
       "      <td>0</td>\n",
       "      <td>0</td>\n",
       "      <td>...</td>\n",
       "      <td>0</td>\n",
       "      <td>0</td>\n",
       "      <td>0</td>\n",
       "      <td>0</td>\n",
       "      <td>0</td>\n",
       "      <td>0</td>\n",
       "      <td>0</td>\n",
       "      <td>0</td>\n",
       "      <td>0</td>\n",
       "      <td>0</td>\n",
       "    </tr>\n",
       "    <tr>\n",
       "      <th>1</th>\n",
       "      <td>0</td>\n",
       "      <td>0</td>\n",
       "      <td>0</td>\n",
       "      <td>0</td>\n",
       "      <td>0</td>\n",
       "      <td>0</td>\n",
       "      <td>0</td>\n",
       "      <td>0</td>\n",
       "      <td>0</td>\n",
       "      <td>0</td>\n",
       "      <td>...</td>\n",
       "      <td>0</td>\n",
       "      <td>0</td>\n",
       "      <td>0</td>\n",
       "      <td>0</td>\n",
       "      <td>0</td>\n",
       "      <td>0</td>\n",
       "      <td>0</td>\n",
       "      <td>0</td>\n",
       "      <td>0</td>\n",
       "      <td>0</td>\n",
       "    </tr>\n",
       "    <tr>\n",
       "      <th>2</th>\n",
       "      <td>0</td>\n",
       "      <td>0</td>\n",
       "      <td>0</td>\n",
       "      <td>0</td>\n",
       "      <td>0</td>\n",
       "      <td>0</td>\n",
       "      <td>0</td>\n",
       "      <td>0</td>\n",
       "      <td>0</td>\n",
       "      <td>0</td>\n",
       "      <td>...</td>\n",
       "      <td>0</td>\n",
       "      <td>0</td>\n",
       "      <td>0</td>\n",
       "      <td>0</td>\n",
       "      <td>0</td>\n",
       "      <td>0</td>\n",
       "      <td>0</td>\n",
       "      <td>0</td>\n",
       "      <td>0</td>\n",
       "      <td>0</td>\n",
       "    </tr>\n",
       "    <tr>\n",
       "      <th>3</th>\n",
       "      <td>0</td>\n",
       "      <td>0</td>\n",
       "      <td>0</td>\n",
       "      <td>0</td>\n",
       "      <td>0</td>\n",
       "      <td>0</td>\n",
       "      <td>0</td>\n",
       "      <td>0</td>\n",
       "      <td>0</td>\n",
       "      <td>0</td>\n",
       "      <td>...</td>\n",
       "      <td>0</td>\n",
       "      <td>0</td>\n",
       "      <td>0</td>\n",
       "      <td>0</td>\n",
       "      <td>0</td>\n",
       "      <td>0</td>\n",
       "      <td>0</td>\n",
       "      <td>0</td>\n",
       "      <td>0</td>\n",
       "      <td>0</td>\n",
       "    </tr>\n",
       "    <tr>\n",
       "      <th>4</th>\n",
       "      <td>0</td>\n",
       "      <td>0</td>\n",
       "      <td>0</td>\n",
       "      <td>0</td>\n",
       "      <td>0</td>\n",
       "      <td>0</td>\n",
       "      <td>0</td>\n",
       "      <td>0</td>\n",
       "      <td>0</td>\n",
       "      <td>0</td>\n",
       "      <td>...</td>\n",
       "      <td>0</td>\n",
       "      <td>0</td>\n",
       "      <td>0</td>\n",
       "      <td>0</td>\n",
       "      <td>0</td>\n",
       "      <td>0</td>\n",
       "      <td>0</td>\n",
       "      <td>0</td>\n",
       "      <td>0</td>\n",
       "      <td>0</td>\n",
       "    </tr>\n",
       "  </tbody>\n",
       "</table>\n",
       "<p>5 rows × 23980 columns</p>\n",
       "</div>"
      ],
      "text/plain": [
       "   00  000  0000  001  002  007  01  02  020  025mm  ...  zoomphone  \\\n",
       "0   0    0     0    0    0    0   0   0    0      0  ...          0   \n",
       "1   0    0     0    0    0    0   0   0    0      0  ...          0   \n",
       "2   0    0     0    0    0    0   0   0    0      0  ...          0   \n",
       "3   0    0     0    0    0    0   0   0    0      0  ...          0   \n",
       "4   0    0     0    0    0    0   0   0    0      0  ...          0   \n",
       "\n",
       "   zoomteams  zoomvideo  zoomvirtual  zooologist  zuckerberg  zzz  în  \\\n",
       "0          0          0            0           0           0    0   0   \n",
       "1          0          0            0           0           0    0   0   \n",
       "2          0          0            0           0           0    0   0   \n",
       "3          0          0            0           0           0    0   0   \n",
       "4          0          0            0           0           0    0   0   \n",
       "\n",
       "   übermensch  那個  \n",
       "0           0   0  \n",
       "1           0   0  \n",
       "2           0   0  \n",
       "3           0   0  \n",
       "4           0   0  \n",
       "\n",
       "[5 rows x 23980 columns]"
      ]
     },
     "execution_count": 57,
     "metadata": {},
     "output_type": "execute_result"
    }
   ],
   "source": [
    "vectors_df = pd.DataFrame(counts.toarray(), columns=vectorizer.get_feature_names_out())\n",
    "print(\"Shape:\", vectors_df.shape)\n",
    "vectors_df.head()"
   ]
  },
  {
   "cell_type": "code",
   "execution_count": 58,
   "metadata": {},
   "outputs": [],
   "source": [
    "# attaching out metrics:\n",
    "for col in ml_df.columns[1:8]:\n",
    "    vectors_df[col] = ml_df[col]"
   ]
  },
  {
   "cell_type": "code",
   "execution_count": 59,
   "metadata": {},
   "outputs": [
    {
     "name": "stdout",
     "output_type": "stream",
     "text": [
      "(28219, 23987)\n"
     ]
    }
   ],
   "source": [
    "# seeing our new vector_df shape:\n",
    "print(vectors_df.shape)"
   ]
  },
  {
   "cell_type": "markdown",
   "metadata": {},
   "source": [
    "We can see that 8 additional columns were added as expected! We know that 'good_advice' is the label column too. Before we can proceed with modelling, we have to first make decisions on what data to include and how to set up our modelling test/training data."
   ]
  },
  {
   "cell_type": "markdown",
   "metadata": {},
   "source": [
    "### Feature/Dataset Curation:"
   ]
  },
  {
   "cell_type": "markdown",
   "metadata": {},
   "source": [
    "Since we split our dataset into top 25% good advice, currently for every good advice post, there is at least 3 not good advice. We want to make our dataset be more representative of good and bad advice, so we want to normalize the distribution of categories. This has the added benefit of making our training dataset smaller. "
   ]
  },
  {
   "cell_type": "code",
   "execution_count": 60,
   "metadata": {},
   "outputs": [
    {
     "data": {
      "text/plain": [
       "0    21778\n",
       "1     6441\n",
       "Name: good_advice, dtype: int64"
      ]
     },
     "execution_count": 60,
     "metadata": {},
     "output_type": "execute_result"
    }
   ],
   "source": [
    "# Lets see the breakdown of value counts\n",
    "valuecounts = vectors_df['good_advice'].value_counts()\n",
    "valuecounts"
   ]
  },
  {
   "cell_type": "markdown",
   "metadata": {},
   "source": [
    "Currently we have 6441 'good' advice, and 21778 'not-good' within our dataset. To reduce computation time, and to make our dataset more 'even', we can randomly select 6441 of the 21778 '0' category as a sub-dataframe and concatenate it with our '1's:"
   ]
  },
  {
   "cell_type": "code",
   "execution_count": 61,
   "metadata": {},
   "outputs": [
    {
     "data": {
      "text/plain": [
       "(6441, 23987)"
      ]
     },
     "execution_count": 61,
     "metadata": {},
     "output_type": "execute_result"
    }
   ],
   "source": [
    "# randomly sampling 6441 'not good' advice:\n",
    "sample_0 = vectors_df[vectors_df['good_advice'] == 0].sample(n=6441, random_state=7)\n",
    "sample_0.shape"
   ]
  },
  {
   "cell_type": "code",
   "execution_count": 62,
   "metadata": {},
   "outputs": [
    {
     "data": {
      "text/html": [
       "<div>\n",
       "<style scoped>\n",
       "    .dataframe tbody tr th:only-of-type {\n",
       "        vertical-align: middle;\n",
       "    }\n",
       "\n",
       "    .dataframe tbody tr th {\n",
       "        vertical-align: top;\n",
       "    }\n",
       "\n",
       "    .dataframe thead th {\n",
       "        text-align: right;\n",
       "    }\n",
       "</style>\n",
       "<table border=\"1\" class=\"dataframe\">\n",
       "  <thead>\n",
       "    <tr style=\"text-align: right;\">\n",
       "      <th></th>\n",
       "      <th>00</th>\n",
       "      <th>000</th>\n",
       "      <th>0000</th>\n",
       "      <th>001</th>\n",
       "      <th>002</th>\n",
       "      <th>007</th>\n",
       "      <th>01</th>\n",
       "      <th>02</th>\n",
       "      <th>020</th>\n",
       "      <th>025mm</th>\n",
       "      <th>...</th>\n",
       "      <th>în</th>\n",
       "      <th>übermensch</th>\n",
       "      <th>那個</th>\n",
       "      <th>TextBlob</th>\n",
       "      <th>VADER</th>\n",
       "      <th>stopword_ratio</th>\n",
       "      <th>body_length</th>\n",
       "      <th>smog_score</th>\n",
       "      <th>gunning_fog_score</th>\n",
       "      <th>good_advice</th>\n",
       "    </tr>\n",
       "  </thead>\n",
       "  <tbody>\n",
       "    <tr>\n",
       "      <th>10570</th>\n",
       "      <td>0</td>\n",
       "      <td>0</td>\n",
       "      <td>0</td>\n",
       "      <td>0</td>\n",
       "      <td>0</td>\n",
       "      <td>0</td>\n",
       "      <td>0</td>\n",
       "      <td>0</td>\n",
       "      <td>0</td>\n",
       "      <td>0</td>\n",
       "      <td>...</td>\n",
       "      <td>0</td>\n",
       "      <td>0</td>\n",
       "      <td>0</td>\n",
       "      <td>0.000000</td>\n",
       "      <td>0.4019</td>\n",
       "      <td>0.000000</td>\n",
       "      <td>2</td>\n",
       "      <td>0.0</td>\n",
       "      <td>0.40</td>\n",
       "      <td>0</td>\n",
       "    </tr>\n",
       "    <tr>\n",
       "      <th>1168</th>\n",
       "      <td>0</td>\n",
       "      <td>0</td>\n",
       "      <td>0</td>\n",
       "      <td>0</td>\n",
       "      <td>0</td>\n",
       "      <td>0</td>\n",
       "      <td>0</td>\n",
       "      <td>0</td>\n",
       "      <td>0</td>\n",
       "      <td>0</td>\n",
       "      <td>...</td>\n",
       "      <td>0</td>\n",
       "      <td>0</td>\n",
       "      <td>0</td>\n",
       "      <td>0.000000</td>\n",
       "      <td>0.0000</td>\n",
       "      <td>0.421053</td>\n",
       "      <td>19</td>\n",
       "      <td>0.0</td>\n",
       "      <td>16.67</td>\n",
       "      <td>0</td>\n",
       "    </tr>\n",
       "    <tr>\n",
       "      <th>12321</th>\n",
       "      <td>0</td>\n",
       "      <td>0</td>\n",
       "      <td>0</td>\n",
       "      <td>0</td>\n",
       "      <td>0</td>\n",
       "      <td>0</td>\n",
       "      <td>0</td>\n",
       "      <td>0</td>\n",
       "      <td>0</td>\n",
       "      <td>0</td>\n",
       "      <td>...</td>\n",
       "      <td>0</td>\n",
       "      <td>0</td>\n",
       "      <td>0</td>\n",
       "      <td>0.147449</td>\n",
       "      <td>0.9711</td>\n",
       "      <td>0.391813</td>\n",
       "      <td>171</td>\n",
       "      <td>11.0</td>\n",
       "      <td>10.88</td>\n",
       "      <td>0</td>\n",
       "    </tr>\n",
       "    <tr>\n",
       "      <th>6045</th>\n",
       "      <td>0</td>\n",
       "      <td>0</td>\n",
       "      <td>0</td>\n",
       "      <td>0</td>\n",
       "      <td>0</td>\n",
       "      <td>0</td>\n",
       "      <td>0</td>\n",
       "      <td>0</td>\n",
       "      <td>0</td>\n",
       "      <td>0</td>\n",
       "      <td>...</td>\n",
       "      <td>0</td>\n",
       "      <td>0</td>\n",
       "      <td>0</td>\n",
       "      <td>0.329167</td>\n",
       "      <td>0.9077</td>\n",
       "      <td>0.413793</td>\n",
       "      <td>87</td>\n",
       "      <td>11.2</td>\n",
       "      <td>11.90</td>\n",
       "      <td>0</td>\n",
       "    </tr>\n",
       "    <tr>\n",
       "      <th>19302</th>\n",
       "      <td>0</td>\n",
       "      <td>0</td>\n",
       "      <td>0</td>\n",
       "      <td>0</td>\n",
       "      <td>0</td>\n",
       "      <td>0</td>\n",
       "      <td>0</td>\n",
       "      <td>0</td>\n",
       "      <td>0</td>\n",
       "      <td>0</td>\n",
       "      <td>...</td>\n",
       "      <td>0</td>\n",
       "      <td>0</td>\n",
       "      <td>0</td>\n",
       "      <td>0.245000</td>\n",
       "      <td>0.9286</td>\n",
       "      <td>0.415254</td>\n",
       "      <td>118</td>\n",
       "      <td>8.0</td>\n",
       "      <td>6.95</td>\n",
       "      <td>0</td>\n",
       "    </tr>\n",
       "  </tbody>\n",
       "</table>\n",
       "<p>5 rows × 23987 columns</p>\n",
       "</div>"
      ],
      "text/plain": [
       "       00  000  0000  001  002  007  01  02  020  025mm  ...  în  übermensch  \\\n",
       "10570   0    0     0    0    0    0   0   0    0      0  ...   0           0   \n",
       "1168    0    0     0    0    0    0   0   0    0      0  ...   0           0   \n",
       "12321   0    0     0    0    0    0   0   0    0      0  ...   0           0   \n",
       "6045    0    0     0    0    0    0   0   0    0      0  ...   0           0   \n",
       "19302   0    0     0    0    0    0   0   0    0      0  ...   0           0   \n",
       "\n",
       "       那個  TextBlob   VADER  stopword_ratio  body_length  smog_score  \\\n",
       "10570   0  0.000000  0.4019        0.000000            2         0.0   \n",
       "1168    0  0.000000  0.0000        0.421053           19         0.0   \n",
       "12321   0  0.147449  0.9711        0.391813          171        11.0   \n",
       "6045    0  0.329167  0.9077        0.413793           87        11.2   \n",
       "19302   0  0.245000  0.9286        0.415254          118         8.0   \n",
       "\n",
       "       gunning_fog_score  good_advice  \n",
       "10570               0.40            0  \n",
       "1168               16.67            0  \n",
       "12321              10.88            0  \n",
       "6045               11.90            0  \n",
       "19302               6.95            0  \n",
       "\n",
       "[5 rows x 23987 columns]"
      ]
     },
     "execution_count": 62,
     "metadata": {},
     "output_type": "execute_result"
    }
   ],
   "source": [
    "# creating an overall sample_df to use in modelling:\n",
    "sample_1 = vectors_df[vectors_df['good_advice'] == 1]\n",
    "sample_df = pd.concat([sample_0, sample_1])\n",
    "sample_df.head()"
   ]
  },
  {
   "cell_type": "code",
   "execution_count": 63,
   "metadata": {},
   "outputs": [
    {
     "name": "stdout",
     "output_type": "stream",
     "text": [
      "Shape: (12882, 23987)\n",
      "Value Counts:\n"
     ]
    },
    {
     "data": {
      "text/plain": [
       "0    6441\n",
       "1    6441\n",
       "Name: good_advice, dtype: int64"
      ]
     },
     "execution_count": 63,
     "metadata": {},
     "output_type": "execute_result"
    }
   ],
   "source": [
    "print(\"Shape:\",sample_df.shape)\n",
    "print(\"Value Counts:\")\n",
    "sample_df['good_advice'].value_counts()"
   ]
  },
  {
   "cell_type": "markdown",
   "metadata": {},
   "source": [
    "We can see that this smaller sample dataset now has 50% of each category. This also can serve as a baseline for any prediction model. We would hope the model at least scores above a 50%. Using a smaller dataset also helps cut down computational times a lot. We had tried to use the bottom 25% of scores to represent bad advice, however, this did not result in even distribution of value counts, since many posts of '0' score were included at high freqeuncy. Having done this data pre-processing, we can finally start modelling our data:"
   ]
  },
  {
   "cell_type": "markdown",
   "metadata": {},
   "source": [
    "### Visualizing Good Advice vs. Bad Advice\n",
    "\n",
    "Now that we've decided on a way to categorize good and bad advice, we can check to see if there are differences in the features we chose for good and bad advice."
   ]
  },
  {
   "cell_type": "code",
   "execution_count": 64,
   "metadata": {},
   "outputs": [
    {
     "data": {
      "text/plain": [
       "<seaborn.axisgrid.FacetGrid at 0x7fcb7ccc4390>"
      ]
     },
     "execution_count": 64,
     "metadata": {},
     "output_type": "execute_result"
    },
    {
     "data": {
      "image/png": "[encoded data removed]",
      "text/plain": [
       "<Figure size 360x360 with 1 Axes>"
      ]
     },
     "metadata": {
      "needs_background": "light"
     },
     "output_type": "display_data"
    }
   ],
   "source": [
    "# plotting TextBlob Distribution for Good Advice\n",
    "test = sample_df[sample_df['TextBlob'] != 0]\n",
    "test2 = test[test['good_advice'] == 1]\n",
    "\n",
    "sns.displot(x='TextBlob',data=test2, color='orange')"
   ]
  },
  {
   "cell_type": "code",
   "execution_count": 65,
   "metadata": {},
   "outputs": [
    {
     "data": {
      "image/png": "[encoded data removed]",
      "text/plain": [
       "<Figure size 360x360 with 1 Axes>"
      ]
     },
     "metadata": {
      "needs_background": "light"
     },
     "output_type": "display_data"
    }
   ],
   "source": [
    "# plotting TextBlob Distribution for Not Good Advice\n",
    "test3 = test[test['good_advice'] == 0]\n",
    "\n",
    "g = sns.displot(x='TextBlob',data=test3, color='lightblue')\n",
    "\n",
    "g = g.set(ylim=(0,400))\n",
    "plt.show(g)"
   ]
  },
  {
   "cell_type": "markdown",
   "metadata": {},
   "source": [
    "Unfortunately, qualitatively examining these distributions of the good and bad advice for the TextBlob sentiment scores show very similar qualities. In addition, comparing the distributions of the good and bad advice for the other features that we chose shows more of the same."
   ]
  },
  {
   "cell_type": "code",
   "execution_count": 66,
   "metadata": {},
   "outputs": [
    {
     "data": {
      "image/png": "[encoded data removed]",
      "text/plain": [
       "<Figure size 360x360 with 1 Axes>"
      ]
     },
     "metadata": {
      "needs_background": "light"
     },
     "output_type": "display_data"
    }
   ],
   "source": [
    "# plotting VADER Distribution for Good Advice\n",
    "test = sample_df[sample_df['VADER'] != 0]\n",
    "test2 = test[test['good_advice'] == 1]\n",
    "\n",
    "g = sns.displot(x='VADER',data=test2, color='orange')\n",
    "g = g.set(ylim=(0,1200))\n",
    "plt.show(g)"
   ]
  },
  {
   "cell_type": "code",
   "execution_count": 67,
   "metadata": {},
   "outputs": [
    {
     "data": {
      "image/png": "[encoded data removed]",
      "text/plain": [
       "<Figure size 360x360 with 1 Axes>"
      ]
     },
     "metadata": {
      "needs_background": "light"
     },
     "output_type": "display_data"
    }
   ],
   "source": [
    "# plotting VADER Distribution for Not Good Advice\n",
    "test3 = test[test['good_advice'] == 0]\n",
    "\n",
    "g = sns.displot(x='VADER',data=test3, color='lightblue')\n",
    "g = g.set(ylim=(0,1200))\n",
    "plt.show(g)"
   ]
  },
  {
   "cell_type": "code",
   "execution_count": 68,
   "metadata": {},
   "outputs": [
    {
     "data": {
      "image/png": "[encoded data removed]",
      "text/plain": [
       "<Figure size 360x360 with 1 Axes>"
      ]
     },
     "metadata": {
      "needs_background": "light"
     },
     "output_type": "display_data"
    }
   ],
   "source": [
    "# plotting SMOG Distribution for Good Advice\n",
    "test = sample_df[sample_df['smog_score'] != 0]\n",
    "test2 = test[test['good_advice'] == 1]\n",
    "\n",
    "g = sns.displot(x='smog_score',data=test2, color='orange')\n",
    "g = g.set(ylim=(0, 500))\n",
    "plt.show(g)"
   ]
  },
  {
   "cell_type": "code",
   "execution_count": 69,
   "metadata": {},
   "outputs": [
    {
     "data": {
      "image/png": "[encoded data removed]",
      "text/plain": [
       "<Figure size 360x360 with 1 Axes>"
      ]
     },
     "metadata": {
      "needs_background": "light"
     },
     "output_type": "display_data"
    }
   ],
   "source": [
    "# plotting SMOG Distribution for Not Good Advice\n",
    "test3 = test[test['good_advice'] == 0]\n",
    "\n",
    "g = sns.displot(x='smog_score',data=test3, color='lightblue')\n",
    "g = g.set(ylim=(0,500))\n",
    "plt.show(g)"
   ]
  },
  {
   "cell_type": "code",
   "execution_count": 70,
   "metadata": {},
   "outputs": [
    {
     "data": {
      "image/png": "[encoded data removed]",
      "text/plain": [
       "<Figure size 360x360 with 1 Axes>"
      ]
     },
     "metadata": {
      "needs_background": "light"
     },
     "output_type": "display_data"
    }
   ],
   "source": [
    "# plotting Gunning Fog Distribution for Good Advice\n",
    "test = sample_df[sample_df['gunning_fog_score'] != 0]\n",
    "test2 = test[test['good_advice'] == 1]\n",
    "\n",
    "g = sns.displot(x='gunning_fog_score',data=test2, color='orange')\n",
    "g = g.set(ylim=(0, 600))\n",
    "plt.show(g)"
   ]
  },
  {
   "cell_type": "code",
   "execution_count": 71,
   "metadata": {},
   "outputs": [
    {
     "data": {
      "image/png": "[encoded data removed]",
      "text/plain": [
       "<Figure size 360x360 with 1 Axes>"
      ]
     },
     "metadata": {
      "needs_background": "light"
     },
     "output_type": "display_data"
    }
   ],
   "source": [
    "# plotting Gunning Fog Distribution for Not Good Advice\n",
    "test3 = test[test['good_advice'] == 0]\n",
    "test3 = test3[test3['gunning_fog_score'] < 40]\n",
    "\n",
    "g = sns.displot(x='gunning_fog_score',data=test3, color='lightblue')\n",
    "g = g.set(ylim=(0,600))\n",
    "plt.show(g)"
   ]
  },
  {
   "cell_type": "markdown",
   "metadata": {},
   "source": [
    "As we can see, the distributions between good and bad advice for each of the features that we chose were very similar. This will likely affect the strength of our models negatively."
   ]
  },
  {
   "cell_type": "markdown",
   "metadata": {},
   "source": [
    "## Part 7: Model 1 -  Naive Bayes\n",
    "\n",
    "We will use naive bayes model and compare accuracy scores when just using metrics of our comments (length, sentiment, etc...) and also using the document-term matrix of our comments. This will also show us whether the actual words being used have a greater effect on 'good' advice.\n",
    "\n",
    "First lets seperate our variable columns and our category column:"
   ]
  },
  {
   "cell_type": "code",
   "execution_count": 72,
   "metadata": {},
   "outputs": [
    {
     "name": "stdout",
     "output_type": "stream",
     "text": [
      "(12882, 23986)\n",
      "(12882,)\n"
     ]
    }
   ],
   "source": [
    "# seperating X and Y variables:\n",
    "X = sample_df.drop(['good_advice'], axis = 1)\n",
    "Y = sample_df['good_advice']\n",
    "print(X.shape)\n",
    "print(Y.shape)"
   ]
  },
  {
   "cell_type": "markdown",
   "metadata": {},
   "source": [
    "We will be using cross validation for to generate accuracy scores. We will use 10 folds for cross-validation:"
   ]
  },
  {
   "cell_type": "code",
   "execution_count": 73,
   "metadata": {},
   "outputs": [],
   "source": [
    "from sklearn.model_selection import cross_validate\n",
    "from sklearn.model_selection import StratifiedKFold, KFold\n",
    "\n",
    "# using 10 folds\n",
    "cv = StratifiedKFold(n_splits=10)"
   ]
  },
  {
   "cell_type": "markdown",
   "metadata": {},
   "source": [
    "For our Naive Bayes model, we will use GaussianNB from sklearn. First I will try a model that includes our vectorized words (document-term matrix) to predict whether advice is good or not."
   ]
  },
  {
   "cell_type": "code",
   "execution_count": 74,
   "metadata": {},
   "outputs": [
    {
     "name": "stdout",
     "output_type": "stream",
     "text": [
      "Naive Bayes Score: 0.6237521623483946\n"
     ]
    }
   ],
   "source": [
    "from sklearn.naive_bayes import GaussianNB\n",
    "\n",
    "# initializing Naive Bayes\n",
    "naivebayes = GaussianNB()\n",
    "# passing our document-term matrix + metrics:\n",
    "results = cross_validate(naivebayes, X, Y.values, cv = cv, return_train_score=True)\n",
    "# generating our average test score and printing\n",
    "nb_score = results['test_score'].mean()\n",
    "print(\"Naive Bayes Score:\", nb_score)"
   ]
  },
  {
   "cell_type": "markdown",
   "metadata": {},
   "source": [
    "Our Test Score from 10 folds averages at ~62%. We can also compare it to the training score:"
   ]
  },
  {
   "cell_type": "code",
   "execution_count": 75,
   "metadata": {},
   "outputs": [
    {
     "name": "stdout",
     "output_type": "stream",
     "text": [
      "Naive Bayes Test Score: 0.6237521623483946\n",
      "Naive Bayes Train Score: 0.8071385522730645\n"
     ]
    }
   ],
   "source": [
    "print(\"Naive Bayes Test Score:\", nb_score)\n",
    "nb_train = results['train_score'].mean()\n",
    "print(\"Naive Bayes Train Score:\",nb_train)"
   ]
  },
  {
   "cell_type": "markdown",
   "metadata": {},
   "source": [
    "As expected the training score is higher than the testing score, by around 18%. Now lets compare it to a model that uses only our metrics (length, sentiments, reading level, etc...):"
   ]
  },
  {
   "cell_type": "code",
   "execution_count": 76,
   "metadata": {},
   "outputs": [],
   "source": [
    "# only using metrics\n",
    "X_only_metrics = sample_df.iloc[:, 23980:23986]\n",
    "# running NB using only metrics\n",
    "only_metric_results = cross_validate(naivebayes, X_only_metrics, Y.values, cv = cv, return_train_score=True)\n",
    "# storing our results from x-validation\n",
    "metric_test = only_metric_results['test_score'].mean()\n",
    "metric_train = only_metric_results['train_score'].mean()"
   ]
  },
  {
   "cell_type": "markdown",
   "metadata": {},
   "source": [
    "We will also check how each metric individually scores:"
   ]
  },
  {
   "cell_type": "code",
   "execution_count": 77,
   "metadata": {},
   "outputs": [],
   "source": [
    "# checking how individual metrics predict\n",
    "metric_names = ['TextBlob', 'VADER', 'Stopword Ratio', 'Length', 'SMOG', 'FOG']\n",
    "metric_scores = []\n",
    "metric_err = []\n",
    "# running a NB for each metric and storing the results\n",
    "for i in range(6):\n",
    "    temp_results = cross_validate(naivebayes, X_only_metrics.iloc[:, i].values.reshape(-1, 1),\n",
    "               Y.values, cv = cv, return_train_score=True)\n",
    "    metric_scores.append(temp_results['test_score'].mean())\n",
    "    metric_err.append(temp_results['test_score'].std())"
   ]
  },
  {
   "cell_type": "code",
   "execution_count": 78,
   "metadata": {},
   "outputs": [
    {
     "data": {
      "image/png": "[encoded data removed]",
      "text/plain": [
       "<Figure size 720x432 with 1 Axes>"
      ]
     },
     "metadata": {
      "needs_background": "light"
     },
     "output_type": "display_data"
    }
   ],
   "source": [
    "# plotting how each individual metric performs\n",
    "plt.rcParams['figure.figsize'] = [10, 6]\n",
    "\n",
    "plt.bar(metric_names, metric_scores, yerr=metric_err, alpha = 0.5, \n",
    "        error_kw=dict(ecolor='#1f77b4', lw=1, capsize=3, capthick=1))\n",
    "plt.title(\"Metric Scores (NB)\", size=16)\n",
    "plt.ylabel(\"Accuracy Score\", size = 12)\n",
    "plt.axhline(0.5, linestyle='--', color='red', label='baseline')\n",
    "plt.legend()\n",
    "plt.ylim(0.3, 0.7)\n",
    "plt.show()"
   ]
  },
  {
   "cell_type": "markdown",
   "metadata": {},
   "source": [
    "The plot above shows how each individual metric scores in a naive bayes model to predict good advice. The baseline is 50% performance. We can see that TextBlob polarity alone perfomed the worse, and most similar to baseline. In contrast SMOG, gunning-fog, and Length were the best. However alone all these metrics barely performed much better (~55%) at best. We can compare our bag-of-words to the metrics alone:"
   ]
  },
  {
   "cell_type": "code",
   "execution_count": 79,
   "metadata": {},
   "outputs": [
    {
     "data": {
      "image/png": "[encoded data removed]",
      "text/plain": [
       "<Figure size 720x432 with 1 Axes>"
      ]
     },
     "metadata": {
      "needs_background": "light"
     },
     "output_type": "display_data"
    }
   ],
   "source": [
    "plt.rcParams['figure.figsize'] = [10, 6]\n",
    "scores_list = [nb_score, nb_train, metric_test, metric_train]\n",
    "scores_name = ['Test Score (Bag-of-Words)', 'Train Score (Bag-of-Words)', \n",
    "               'Test Score (Metrics Only)', 'Train Score (Metrics Only)']\n",
    "\n",
    "plt.bar(scores_name, scores_list, alpha = 0.5, color=['red', 'red', 'blue', 'blue'])\n",
    "plt.xticks(rotation = 10)\n",
    "plt.ylim(0, 0.85)\n",
    "plt.title(\"Naive Bayes Accuracy Scores\", size=16)\n",
    "plt.ylabel(\"Accuracy Score\", size = 12)\n",
    "plt.show()"
   ]
  },
  {
   "cell_type": "markdown",
   "metadata": {},
   "source": [
    "From the graph above, we can see that using words had a better prediction rate than metrics alone. Still our test score for bag of words was only about 62% accurate. This indicates that good advice can only marginally be predicted alone from annotated text metrics. The actual choice of words matter more, but still does not tell the entire story. I suspect some of the limitations in our findings could be due to a handful of reasons. First, we did not consider every possible metric. Other important metrics to consider could have been Parts of Speech (POS) percentage or ratio of punctuation. SMOG was our best measured metric, which indicates that writing level is more indicative of advice quality than necessarily Sentiments. Another limitation could have been how we partitioned our good and not-good advice. We used a slighty arbitrary cut off based on upvote score, where the top 25% of scored comments of a submission were 'good' advice. This means that jokes with high upvotes could have been interpretted as good advice even if it was not. "
   ]
  },
  {
   "cell_type": "markdown",
   "metadata": {},
   "source": [
    "## Part 8: Model 2 - Logistic Regression\n",
    "\n",
    "For each metric, fit a logistic regression model to see which metrics are the best indicators of good advice."
   ]
  },
  {
   "cell_type": "code",
   "execution_count": 80,
   "metadata": {},
   "outputs": [
    {
     "data": {
      "text/html": [
       "<div>\n",
       "<style scoped>\n",
       "    .dataframe tbody tr th:only-of-type {\n",
       "        vertical-align: middle;\n",
       "    }\n",
       "\n",
       "    .dataframe tbody tr th {\n",
       "        vertical-align: top;\n",
       "    }\n",
       "\n",
       "    .dataframe thead th {\n",
       "        text-align: right;\n",
       "    }\n",
       "</style>\n",
       "<table border=\"1\" class=\"dataframe\">\n",
       "  <thead>\n",
       "    <tr style=\"text-align: right;\">\n",
       "      <th></th>\n",
       "      <th>body</th>\n",
       "      <th>TextBlob</th>\n",
       "      <th>VADER</th>\n",
       "      <th>stopword_ratio</th>\n",
       "      <th>body_length</th>\n",
       "      <th>smog_score</th>\n",
       "      <th>gunning_fog_score</th>\n",
       "      <th>good_advice</th>\n",
       "      <th>cleaned_text</th>\n",
       "    </tr>\n",
       "  </thead>\n",
       "  <tbody>\n",
       "    <tr>\n",
       "      <th>10570</th>\n",
       "      <td>Yes.</td>\n",
       "      <td>0.000000</td>\n",
       "      <td>0.4019</td>\n",
       "      <td>0.000000</td>\n",
       "      <td>2</td>\n",
       "      <td>0.0</td>\n",
       "      <td>0.40</td>\n",
       "      <td>0</td>\n",
       "      <td>yes</td>\n",
       "    </tr>\n",
       "    <tr>\n",
       "      <th>1168</th>\n",
       "      <td>Isn’t there a book on how to be genderless, se...</td>\n",
       "      <td>0.000000</td>\n",
       "      <td>0.0000</td>\n",
       "      <td>0.421053</td>\n",
       "      <td>19</td>\n",
       "      <td>0.0</td>\n",
       "      <td>16.67</td>\n",
       "      <td>0</td>\n",
       "      <td>book genderless secular unpolitical organism m...</td>\n",
       "    </tr>\n",
       "    <tr>\n",
       "      <th>12321</th>\n",
       "      <td>I currently work on the analytics side of e-co...</td>\n",
       "      <td>0.147449</td>\n",
       "      <td>0.9711</td>\n",
       "      <td>0.391813</td>\n",
       "      <td>171</td>\n",
       "      <td>11.0</td>\n",
       "      <td>10.88</td>\n",
       "      <td>0</td>\n",
       "      <td>currently work analytics side ecommerceretail ...</td>\n",
       "    </tr>\n",
       "    <tr>\n",
       "      <th>6045</th>\n",
       "      <td>Interstate/International Truck Driver. My rela...</td>\n",
       "      <td>0.329167</td>\n",
       "      <td>0.9077</td>\n",
       "      <td>0.413793</td>\n",
       "      <td>87</td>\n",
       "      <td>11.2</td>\n",
       "      <td>11.90</td>\n",
       "      <td>0</td>\n",
       "      <td>interstateinternational truck driver relative ...</td>\n",
       "    </tr>\n",
       "    <tr>\n",
       "      <th>19302</th>\n",
       "      <td>It's not you being able to not picture yoursel...</td>\n",
       "      <td>0.245000</td>\n",
       "      <td>0.9286</td>\n",
       "      <td>0.415254</td>\n",
       "      <td>118</td>\n",
       "      <td>8.0</td>\n",
       "      <td>6.95</td>\n",
       "      <td>0</td>\n",
       "      <td>able picture somewhere way job advertisement w...</td>\n",
       "    </tr>\n",
       "  </tbody>\n",
       "</table>\n",
       "</div>"
      ],
      "text/plain": [
       "                                                    body  TextBlob   VADER  \\\n",
       "10570                                               Yes.  0.000000  0.4019   \n",
       "1168   Isn’t there a book on how to be genderless, se...  0.000000  0.0000   \n",
       "12321  I currently work on the analytics side of e-co...  0.147449  0.9711   \n",
       "6045   Interstate/International Truck Driver. My rela...  0.329167  0.9077   \n",
       "19302  It's not you being able to not picture yoursel...  0.245000  0.9286   \n",
       "\n",
       "       stopword_ratio  body_length  smog_score  gunning_fog_score  \\\n",
       "10570        0.000000            2         0.0               0.40   \n",
       "1168         0.421053           19         0.0              16.67   \n",
       "12321        0.391813          171        11.0              10.88   \n",
       "6045         0.413793           87        11.2              11.90   \n",
       "19302        0.415254          118         8.0               6.95   \n",
       "\n",
       "       good_advice                                       cleaned_text  \n",
       "10570            0                                                yes  \n",
       "1168             0  book genderless secular unpolitical organism m...  \n",
       "12321            0  currently work analytics side ecommerceretail ...  \n",
       "6045             0  interstateinternational truck driver relative ...  \n",
       "19302            0  able picture somewhere way job advertisement w...  "
      ]
     },
     "execution_count": 80,
     "metadata": {},
     "output_type": "execute_result"
    }
   ],
   "source": [
    "sample0 = ml_df[ml_df['good_advice'] == 0].sample(n=6441, random_state=7)\n",
    "sample1 = ml_df[ml_df['good_advice'] == 1]\n",
    "metrics_sample = pd.concat([sample0, sample1])\n",
    "metrics_sample.head()"
   ]
  },
  {
   "cell_type": "code",
   "execution_count": 81,
   "metadata": {},
   "outputs": [
    {
     "name": "stdout",
     "output_type": "stream",
     "text": [
      "Optimization terminated successfully.\n",
      "         Current function value: 0.693147\n",
      "         Iterations 2\n",
      "                         Results: Logit\n",
      "=================================================================\n",
      "Model:              Logit            Pseudo R-squared: 0.000     \n",
      "Dependent Variable: good_advice      AIC:              17860.2364\n",
      "Date:               2022-06-01 23:06 BIC:              17867.7000\n",
      "No. Observations:   12882            Log-Likelihood:   -8929.1   \n",
      "Df Model:           0                LL-Null:          -8929.1   \n",
      "Df Residuals:       12881            LLR p-value:      nan       \n",
      "Converged:          1.0000           Scale:            1.0000    \n",
      "No. Iterations:     2.0000                                       \n",
      "-------------------------------------------------------------------\n",
      "            Coef.    Std.Err.      z      P>|z|     [0.025   0.975]\n",
      "-------------------------------------------------------------------\n",
      "TextBlob   -0.0063     0.0725   -0.0869   0.9307   -0.1485   0.1359\n",
      "=================================================================\n",
      "\n"
     ]
    }
   ],
   "source": [
    "import statsmodels.api as sm\n",
    "# logistic regression using TextBlob polarity score\n",
    "X = metrics_sample.TextBlob\n",
    "y = metrics_sample.good_advice\n",
    "logit1 = sm.Logit(y,X)\n",
    "result = logit1.fit()\n",
    "print(result.summary2())"
   ]
  },
  {
   "cell_type": "code",
   "execution_count": 82,
   "metadata": {},
   "outputs": [
    {
     "name": "stdout",
     "output_type": "stream",
     "text": [
      "Optimization terminated successfully.\n",
      "         Current function value: 0.692895\n",
      "         Iterations 3\n",
      "                         Results: Logit\n",
      "=================================================================\n",
      "Model:              Logit            Pseudo R-squared: 0.000     \n",
      "Dependent Variable: good_advice      AIC:              17853.7543\n",
      "Date:               2022-06-01 23:06 BIC:              17861.2179\n",
      "No. Observations:   12882            Log-Likelihood:   -8925.9   \n",
      "Df Model:           0                LL-Null:          -8929.1   \n",
      "Df Residuals:       12881            LLR p-value:      nan       \n",
      "Converged:          1.0000           Scale:            1.0000    \n",
      "No. Iterations:     3.0000                                       \n",
      "--------------------------------------------------------------------\n",
      "          Coef.     Std.Err.      z       P>|z|     [0.025    0.975]\n",
      "--------------------------------------------------------------------\n",
      "VADER     0.0736      0.0289    2.5469    0.0109    0.0170    0.1303\n",
      "=================================================================\n",
      "\n"
     ]
    }
   ],
   "source": [
    "# logistic regression using VADER polarity score\n",
    "X = metrics_sample.VADER\n",
    "y = metrics_sample.good_advice\n",
    "logit2 = sm.Logit(y,X)\n",
    "result = logit2.fit()\n",
    "print(result.summary2())"
   ]
  },
  {
   "cell_type": "code",
   "execution_count": 83,
   "metadata": {},
   "outputs": [
    {
     "name": "stdout",
     "output_type": "stream",
     "text": [
      "Optimization terminated successfully.\n",
      "         Current function value: 0.693122\n",
      "         Iterations 3\n",
      "                         Results: Logit\n",
      "=================================================================\n",
      "Model:              Logit            Pseudo R-squared: 0.000     \n",
      "Dependent Variable: good_advice      AIC:              17859.5888\n",
      "Date:               2022-06-01 23:06 BIC:              17867.0524\n",
      "No. Observations:   12882            Log-Likelihood:   -8928.8   \n",
      "Df Model:           0                LL-Null:          -8929.1   \n",
      "Df Residuals:       12881            LLR p-value:      nan       \n",
      "Converged:          1.0000           Scale:            1.0000    \n",
      "No. Iterations:     3.0000                                       \n",
      "------------------------------------------------------------------\n",
      "                 Coef.   Std.Err.    z     P>|z|    [0.025  0.975]\n",
      "------------------------------------------------------------------\n",
      "stopword_ratio   0.0368    0.0455  0.8094  0.4183  -0.0523  0.1259\n",
      "=================================================================\n",
      "\n"
     ]
    }
   ],
   "source": [
    "# logistic regression using stopword ratio\n",
    "X = metrics_sample.stopword_ratio\n",
    "y = metrics_sample.good_advice\n",
    "logit3 = sm.Logit(y,X)\n",
    "result = logit3.fit()\n",
    "print(result.summary2())"
   ]
  },
  {
   "cell_type": "code",
   "execution_count": 84,
   "metadata": {},
   "outputs": [
    {
     "name": "stdout",
     "output_type": "stream",
     "text": [
      "Optimization terminated successfully.\n",
      "         Current function value: 0.689856\n",
      "         Iterations 4\n",
      "                         Results: Logit\n",
      "=================================================================\n",
      "Model:              Logit            Pseudo R-squared: 0.005     \n",
      "Dependent Variable: good_advice      AIC:              17775.4445\n",
      "Date:               2022-06-01 23:06 BIC:              17782.9081\n",
      "No. Observations:   12882            Log-Likelihood:   -8886.7   \n",
      "Df Model:           0                LL-Null:          -8929.1   \n",
      "Df Residuals:       12881            LLR p-value:      nan       \n",
      "Converged:          1.0000           Scale:            1.0000    \n",
      "No. Iterations:     4.0000                                       \n",
      "-------------------------------------------------------------------\n",
      "              Coef.    Std.Err.     z      P>|z|    [0.025   0.975]\n",
      "-------------------------------------------------------------------\n",
      "body_length   0.0014     0.0002   9.0174   0.0000   0.0011   0.0017\n",
      "=================================================================\n",
      "\n"
     ]
    }
   ],
   "source": [
    "# logistic regression using length of text\n",
    "X = metrics_sample.body_length\n",
    "y = metrics_sample.good_advice\n",
    "logit4 = sm.Logit(y,X)\n",
    "result = logit4.fit()\n",
    "print(result.summary2())"
   ]
  },
  {
   "cell_type": "code",
   "execution_count": 85,
   "metadata": {},
   "outputs": [
    {
     "name": "stdout",
     "output_type": "stream",
     "text": [
      "Optimization terminated successfully.\n",
      "         Current function value: 0.690106\n",
      "         Iterations 3\n",
      "                         Results: Logit\n",
      "=================================================================\n",
      "Model:              Logit            Pseudo R-squared: 0.004     \n",
      "Dependent Variable: good_advice      AIC:              17781.9000\n",
      "Date:               2022-06-01 23:06 BIC:              17789.3636\n",
      "No. Observations:   12882            Log-Likelihood:   -8889.9   \n",
      "Df Model:           0                LL-Null:          -8929.1   \n",
      "Df Residuals:       12881            LLR p-value:      nan       \n",
      "Converged:          1.0000           Scale:            1.0000    \n",
      "No. Iterations:     3.0000                                       \n",
      "-------------------------------------------------------------------\n",
      "              Coef.    Std.Err.     z      P>|z|    [0.025   0.975]\n",
      "-------------------------------------------------------------------\n",
      "smog_score    0.0213     0.0024   8.8235   0.0000   0.0166   0.0260\n",
      "=================================================================\n",
      "\n"
     ]
    }
   ],
   "source": [
    "# logistic regression using SMOG score\n",
    "X = metrics_sample.smog_score\n",
    "y = metrics_sample.good_advice\n",
    "logit5 = sm.Logit(y,X)\n",
    "result = logit5.fit()\n",
    "print(result.summary2())"
   ]
  },
  {
   "cell_type": "code",
   "execution_count": 86,
   "metadata": {},
   "outputs": [
    {
     "name": "stdout",
     "output_type": "stream",
     "text": [
      "Optimization terminated successfully.\n",
      "         Current function value: 0.692985\n",
      "         Iterations 3\n",
      "                         Results: Logit\n",
      "=================================================================\n",
      "Model:              Logit            Pseudo R-squared: 0.000     \n",
      "Dependent Variable: good_advice      AIC:              17856.0733\n",
      "Date:               2022-06-01 23:06 BIC:              17863.5369\n",
      "No. Observations:   12882            Log-Likelihood:   -8927.0   \n",
      "Df Model:           0                LL-Null:          -8929.1   \n",
      "Df Residuals:       12881            LLR p-value:      nan       \n",
      "Converged:          1.0000           Scale:            1.0000    \n",
      "No. Iterations:     3.0000                                       \n",
      "-----------------------------------------------------------------\n",
      "                      Coef.  Std.Err.   z    P>|z|  [0.025 0.975]\n",
      "-----------------------------------------------------------------\n",
      "gunning_fog_score     0.0036   0.0018 2.0377 0.0416 0.0001 0.0071\n",
      "=================================================================\n",
      "\n"
     ]
    }
   ],
   "source": [
    "# logistic regression using gunning fog score\n",
    "X = metrics_sample.gunning_fog_score\n",
    "y = metrics_sample.good_advice\n",
    "logit6 = sm.Logit(y,X)\n",
    "result = logit6.fit()\n",
    "print(result.summary2())"
   ]
  },
  {
   "cell_type": "markdown",
   "metadata": {},
   "source": [
    "For all of the logistic regression models with a single independent variable, the pseudo r-squared value is close to 0 and the log-likelihood values are large and negative (approx. -8900), which indicates that these models have little predictive power and a logistic model is unlikely to be a good fit."
   ]
  },
  {
   "cell_type": "code",
   "execution_count": 87,
   "metadata": {},
   "outputs": [
    {
     "name": "stdout",
     "output_type": "stream",
     "text": [
      "Optimization terminated successfully.\n",
      "         Current function value: 0.685372\n",
      "         Iterations 4\n",
      "                         Results: Logit\n",
      "=================================================================\n",
      "Model:              Logit            Pseudo R-squared: 0.011     \n",
      "Dependent Variable: good_advice      AIC:              17669.9143\n",
      "Date:               2022-06-01 23:06 BIC:              17714.6958\n",
      "No. Observations:   12882            Log-Likelihood:   -8829.0   \n",
      "Df Model:           5                LL-Null:          -8929.1   \n",
      "Df Residuals:       12876            LLR p-value:      2.4148e-41\n",
      "Converged:          1.0000           Scale:            1.0000    \n",
      "No. Iterations:     4.0000                                       \n",
      "-----------------------------------------------------------------\n",
      "                   Coef.  Std.Err.    z    P>|z|   [0.025  0.975]\n",
      "-----------------------------------------------------------------\n",
      "TextBlob          -0.0424   0.0902 -0.4705 0.6380 -0.2192  0.1343\n",
      "VADER             -0.0344   0.0374 -0.9193 0.3580 -0.1078  0.0390\n",
      "stopword_ratio    -0.7346   0.0985 -7.4585 0.0000 -0.9277 -0.5416\n",
      "body_length        0.0014   0.0002  5.7218 0.0000  0.0009  0.0019\n",
      "smog_score         0.0347   0.0045  7.7326 0.0000  0.0259  0.0435\n",
      "gunning_fog_score  0.0003   0.0034  0.0946 0.9246 -0.0063  0.0069\n",
      "=================================================================\n",
      "\n"
     ]
    }
   ],
   "source": [
    "# use all metrics as features for multiple logistic regression\n",
    "X = metrics_sample.iloc[:, 1:7]\n",
    "y = metrics_sample.good_advice\n",
    "logit7 = sm.Logit(y,X)\n",
    "result = logit7.fit()\n",
    "print(result.summary2())"
   ]
  },
  {
   "cell_type": "markdown",
   "metadata": {},
   "source": [
    "Even a multiple logistic regression model which combines all of the sentiment and readability metrics is only a slight improvement on the performance of the single-variable logistic models."
   ]
  },
  {
   "cell_type": "markdown",
   "metadata": {},
   "source": [
    "## Part 9: Hypothesis Testing:\n",
    "\n",
    "From our Naive Bayes Model we observed that Readability Scores (SMOG/FOG) and Body length were the metrics that created the best model when used in isolation. To see exactly what qualities these traits have on advice, we wanted to compare means and use hypothesis testing.\n",
    "\n",
    "First, We want to see what the difference in mean SMOG scores are between good and not good advice. We can then use T-Test to see if this average difference in signifcant:"
   ]
  },
  {
   "cell_type": "code",
   "execution_count": 88,
   "metadata": {},
   "outputs": [
    {
     "data": {
      "text/plain": [
       "Text(0.5, 0, 'Advice Category')"
      ]
     },
     "execution_count": 88,
     "metadata": {},
     "output_type": "execute_result"
    },
    {
     "data": {
      "image/png": "[encoded data removed]",
      "text/plain": [
       "<Figure size 720x432 with 1 Axes>"
      ]
     },
     "metadata": {
      "needs_background": "light"
     },
     "output_type": "display_data"
    }
   ],
   "source": [
    "# dataframe containing our metrics and good advice column\n",
    "ttest_df = sample_df.iloc[:, 23980:23987]\n",
    "# retrieving mean SMOG score for good and bad advice\n",
    "bad_smog, good_smog = ttest_df.groupby('good_advice').smog_score.mean()\n",
    "# plotting it as a bar\n",
    "plt.bar(['Not Good', \"Good\"], [bad_smog, good_smog],alpha = 0.75)\n",
    "plt.title('Average SMOG Score for Good and Not Good Advice')\n",
    "plt.ylabel(\"Average SMOG Score\")\n",
    "plt.xlabel(\"Advice Category\")"
   ]
  },
  {
   "cell_type": "markdown",
   "metadata": {},
   "source": [
    "The average SMOG score for good advice is 6.0, whereas other comments are 4.87. That means good advice seems to have a higher average readbility (SMOG) score than not good advice. This means our NB model from above may factor better written posts as metric for good advice. To see whether this difference in means is signifcant we will do a T-Test:"
   ]
  },
  {
   "cell_type": "code",
   "execution_count": 89,
   "metadata": {},
   "outputs": [
    {
     "data": {
      "text/plain": [
       "Ttest_indResult(statistic=-13.28670430657655, pvalue=5.069471679861382e-40)"
      ]
     },
     "execution_count": 89,
     "metadata": {},
     "output_type": "execute_result"
    }
   ],
   "source": [
    "# we can use scipy for T-Test\n",
    "import scipy.stats as stats\n",
    "stats.ttest_ind(ttest_df[ttest_df['good_advice'] == 0]['smog_score'],\n",
    "                ttest_df[ttest_df['good_advice'] == 1]['smog_score'])"
   ]
  },
  {
   "cell_type": "markdown",
   "metadata": {},
   "source": [
    "The T-Test above compares the average SMOG score for good and not good advice comments. Our p-value is 5.07e-40, which is highly signficant! That means SMOG reability index is a reliable metric than can be used to differentiate good and bad advice. The other metric from our Naive Bayes that was interesting was body length. Lets repeat this process to see body length variations:"
   ]
  },
  {
   "cell_type": "code",
   "execution_count": 90,
   "metadata": {},
   "outputs": [
    {
     "data": {
      "text/plain": [
       "Text(0.5, 0, 'Advice Category')"
      ]
     },
     "execution_count": 90,
     "metadata": {},
     "output_type": "execute_result"
    },
    {
     "data": {
      "image/png": "[encoded data removed]",
      "text/plain": [
       "<Figure size 720x432 with 1 Axes>"
      ]
     },
     "metadata": {
      "needs_background": "light"
     },
     "output_type": "display_data"
    }
   ],
   "source": [
    "# retrieving mean body length score for good and bad advice\n",
    "bad_len, good_len = ttest_df.groupby('good_advice').body_length.mean()\n",
    "# plotting it as a bar\n",
    "plt.bar(['Not Good', \"Good\"], [bad_len, good_len],alpha = 0.75)\n",
    "plt.title('Average Text Length for Good and Not Good Advice')\n",
    "plt.ylabel(\"Average Text Length\")\n",
    "plt.xlabel(\"Advice Category\")"
   ]
  },
  {
   "cell_type": "markdown",
   "metadata": {},
   "source": [
    "The Average good advice comment is longer on average (88 tokens) than other comments (68 tokens), by 20 words. Let's see if this difference is statistically signficant:"
   ]
  },
  {
   "cell_type": "code",
   "execution_count": 91,
   "metadata": {},
   "outputs": [
    {
     "data": {
      "text/plain": [
       "Ttest_indResult(statistic=-11.941416493178453, pvalue=1.0709980883200153e-32)"
      ]
     },
     "execution_count": 91,
     "metadata": {},
     "output_type": "execute_result"
    }
   ],
   "source": [
    "stats.ttest_ind(ttest_df[ttest_df['good_advice'] == 0]['body_length'],\n",
    "                ttest_df[ttest_df['good_advice'] == 1]['body_length'])"
   ]
  },
  {
   "cell_type": "markdown",
   "metadata": {},
   "source": [
    "Again, we see a highly signifcant p-value! This means that good advice is typically longer than not good advice. This makes sense along with readability. We expect good advice comments to be well written (higher readibility) and also to be detailed. This may mean that it has longer sentences in general."
   ]
  },
  {
   "cell_type": "markdown",
   "metadata": {},
   "source": [
    "## Part 10: Takeaways\n",
    "\n",
    "From our topic modeling of the submissions in each of these subreddits, we were able to identify distinct communities. Some of the topics we were able to identify taught us that many marginalized communities use these subreddits to get information about work and hiring that they would otherwise not get access to. One example of this is the distinct topic around previously-incarcerated people. Previously-incarcerated people historically have an extremely difficult time reaclimating themselves in the working world, and having access to reliable and proven advice from these subreddits can be life-changing. \n",
    "\n",
    "From our topic analysis, we could recommend that companies identify the topics that these marginalized groups are most commonly asking about, and making access to this information more readily and easily available.\n",
    "\n",
    "From our comment characterization, our models had ambigious results. We did find that out of the features that we chose, body length and readability were the two most important factors in predicting good advice. From T-Test validation, we see that people who take the time to write out longer and well-written responses also generally give better advice. In addition, our bag-of-words models performed better than the models of our chosen features, which indicates that the content of the comment is more important than other charactertistics of it (like sentiment or stopword ratio). This would require additional research in the future."
   ]
  },
  {
   "cell_type": "markdown",
   "metadata": {},
   "source": [
    "## Part 11: Limitations, Ethics, and Future Work\n",
    "\n",
    "### Limitations\n",
    "\n",
    "One limitation in our study was that we only studied posts in the English language, which inherently biases our data toward work problems that are primarily experienced by English-speakers. Even if the scope of our research is narrowed to only characterize the workplace problems of US workers, there are still large portions of the population that are left out by us not including other languages.\n",
    "\n",
    "Another limitation in our study was that we only collected data from Reddit. This could bias our findings in more than one way. First, the unique culture that is cultivated within certain subreddits could lead us to misunderstand and miscategorize comments. For example, in some subreddits, inside jokes could start to form, which could skew data about topic modeling. Another way our findings could be biased because our lack of cross-platform investigation is that we only identify problems that people are comfortable posting about online. There may be many different kinds of workplace problems that people face that are underrepresented in our data because they may involve sensitive or private information that someone wouldn’t want to share to an online community of hundreds of thousands of people.When we collected the Reddit data, we did not collect for awards, which also limited the scope for how to verify advice relevancy. \n",
    "\n",
    "One final limitation to our study was that we lacked the people-power to effectively verify our models. Because we couldn’t look through tens of thousands of comments in the time frame for this project, we had to use other metrics to try to measure “good” advice on these platforms. However, this is much more inaccurate and less reliable than manually coding each comment.\n",
    "\n",
    "\n",
    "### Ethical Considerations\n",
    "\n",
    "One thing to consider for this research as far as ethics is the data collection method. We collected Reddit comments and submissions without the informed consent of the posters or moderators of the subreddits. However, we found this morally permissible because this research is not meant to be published, and we did not take steps to further deanonymize the data more than what was already publicly available information. Future work, however, should take this into consideration, especially if there are plans to publish the research or make the data set widely available.\n",
    "\n",
    "Another thing to consider for our research is the scope. Because we only studied English posts from Reddit, our data is inherently biased, so we have to be extremely careful not to overgeneralize our findings. If we do overgeneralize our findings, we can make incorrect assumptions about populations, which could have widespread negative effects if future research is made more public.\n",
    "\n",
    " \n",
    "\n",
    "### Future Work\n",
    "\n",
    "Fully-funded versions of this work could hire Mechanical Turks to manually code “good” advice. As mentioned in the “Limitations” section, we had to rely on comment score to measure “good” advice, but that ended up being a relatively unreliable metric. Having people manually code what constitutes good advice, giving them a strict rubric to follow, could lead to more reliable results in the future.\n",
    "\n",
    "We could also do a lot to diversify our data set. We could include other job-advice platforms outside of Reddit, as well as non-English platforms with the hiring of reliable translators. Expanding our data set would allow us to learn more about the workplace as a whole and generalize the findings of our research to a much wider audience.\n",
    "\n",
    "Future research in this area would also explore more features for our data. The features that we examined in this research were not very strongly correlated to the quality of advice (or at least our measure of it), so in future research, we could look at more features that might have stronger relationships.\n"
   ]
  },
  {
   "cell_type": "markdown",
   "metadata": {},
   "source": [
    "### Team Member Contributions:\n",
    "\n",
    "**Wen Yi**:\n",
    "\n",
    "- Post Collection/Reddit API (Seperate Notebook)\n",
    "- EDA/Preliminary Analysis\n",
    "- Logistic Regression\n",
    "\n",
    "**Walker**:\n",
    "\n",
    "- LDA Topic Modelling (Seperate Notebook)\n",
    "- Comment Collection (Seperate Notebook)\n",
    "- Score Seperation\n",
    "- Naive Bayes\n",
    "- Hypothesis Testing (T-Tests)\n",
    "\n",
    "**Ken**:\n",
    "\n",
    "- Notebook/Code Compilation\n",
    "- EDA/Preliminary Analysis\n",
    "- Metric Distribution Visualization\n",
    "- Limitations/Ethics/Future Work write up"
   ]
  }
 ],
 "metadata": {
  "kernelspec": {
   "display_name": "Python 3 (ipykernel)",
   "language": "python",
   "name": "python3"
  },
  "language_info": {
   "codemirror_mode": {
    "name": "ipython",
    "version": 3
   },
   "file_extension": ".py",
   "mimetype": "text/x-python",
   "name": "python",
   "nbconvert_exporter": "python",
   "pygments_lexer": "ipython3",
   "version": "3.7.13"
  }
 },
 "nbformat": 4,
 "nbformat_minor": 2
}
